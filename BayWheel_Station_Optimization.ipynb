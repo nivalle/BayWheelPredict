{
 "cells": [
  {
   "cell_type": "code",
   "execution_count": 2,
   "metadata": {},
   "outputs": [],
   "source": [
    "import pandas as pd\n",
    "import numpy as np\n",
    "import seaborn as sns\n",
    "import matplotlib.pyplot as plt\n",
    "from pandas.plotting import scatter_matrix\n",
    "\n",
    "from sklearn import datasets\n",
    "from sklearn.model_selection import train_test_split\n",
    "\n",
    "import datetime\n",
    "from dateutil.parser import parse\n",
    "\n",
    "%matplotlib inline"
   ]
  },
  {
   "cell_type": "markdown",
   "metadata": {},
   "source": [
    "### BayWheel Station Optimization \n",
    "#### Niva Alina Ran\n",
    "\n",
    "This project looks at the BayWheel bikesharing dataset (source: https://www.lyft.com/bikes/bay-wheels/system-data). \n",
    "We will use the per-station usage data to construct a predictive model, which for a given geo-coordinate in San Francisco, predicts the expected monthly demand. We then use this predictive model to optimize for the placement of bike stations with the objectibve of minimize total expected walking distances, weighted by demand density. "
   ]
  },
  {
   "cell_type": "code",
   "execution_count": 3,
   "metadata": {},
   "outputs": [
    {
     "name": "stdout",
     "output_type": "stream",
     "text": [
      "Index(['duration_sec', 'start_time', 'end_time', 'start_station_id',\n",
      "       'start_station_name', 'start_station_latitude',\n",
      "       'start_station_longitude', 'end_station_id', 'end_station_name',\n",
      "       'end_station_latitude', 'end_station_longitude', 'bike_id', 'user_type',\n",
      "       'member_birth_year', 'member_gender', 'bike_share_for_all_trip'],\n",
      "      dtype='object')\n"
     ]
    },
    {
     "data": {
      "text/html": [
       "<div>\n",
       "<style scoped>\n",
       "    .dataframe tbody tr th:only-of-type {\n",
       "        vertical-align: middle;\n",
       "    }\n",
       "\n",
       "    .dataframe tbody tr th {\n",
       "        vertical-align: top;\n",
       "    }\n",
       "\n",
       "    .dataframe thead th {\n",
       "        text-align: right;\n",
       "    }\n",
       "</style>\n",
       "<table border=\"1\" class=\"dataframe\">\n",
       "  <thead>\n",
       "    <tr style=\"text-align: right;\">\n",
       "      <th></th>\n",
       "      <th>duration_sec</th>\n",
       "      <th>start_time</th>\n",
       "      <th>end_time</th>\n",
       "      <th>start_station_id</th>\n",
       "      <th>start_station_name</th>\n",
       "      <th>start_station_latitude</th>\n",
       "      <th>start_station_longitude</th>\n",
       "      <th>end_station_id</th>\n",
       "      <th>end_station_name</th>\n",
       "      <th>end_station_latitude</th>\n",
       "      <th>end_station_longitude</th>\n",
       "      <th>bike_id</th>\n",
       "      <th>user_type</th>\n",
       "      <th>member_birth_year</th>\n",
       "      <th>member_gender</th>\n",
       "      <th>bike_share_for_all_trip</th>\n",
       "    </tr>\n",
       "  </thead>\n",
       "  <tbody>\n",
       "    <tr>\n",
       "      <td>0</td>\n",
       "      <td>62337</td>\n",
       "      <td>2019-10-31 16:25:01.5970</td>\n",
       "      <td>2019-11-01 09:43:59.0290</td>\n",
       "      <td>148</td>\n",
       "      <td>Horton St at 40th St</td>\n",
       "      <td>37.829705</td>\n",
       "      <td>-122.28761</td>\n",
       "      <td>385</td>\n",
       "      <td>Woolsey St at Sacramento St</td>\n",
       "      <td>37.850578</td>\n",
       "      <td>-122.278175</td>\n",
       "      <td>12222</td>\n",
       "      <td>Customer</td>\n",
       "      <td>NaN</td>\n",
       "      <td>NaN</td>\n",
       "      <td>No</td>\n",
       "    </tr>\n",
       "    <tr>\n",
       "      <td>1</td>\n",
       "      <td>72610</td>\n",
       "      <td>2019-10-31 13:04:11.1950</td>\n",
       "      <td>2019-11-01 09:14:21.8050</td>\n",
       "      <td>376</td>\n",
       "      <td>Illinois St at 20th St</td>\n",
       "      <td>37.760458</td>\n",
       "      <td>-122.38754</td>\n",
       "      <td>30</td>\n",
       "      <td>San Francisco Caltrain (Townsend St at 4th St)</td>\n",
       "      <td>37.776598</td>\n",
       "      <td>-122.395282</td>\n",
       "      <td>282</td>\n",
       "      <td>Customer</td>\n",
       "      <td>NaN</td>\n",
       "      <td>NaN</td>\n",
       "      <td>No</td>\n",
       "    </tr>\n",
       "  </tbody>\n",
       "</table>\n",
       "</div>"
      ],
      "text/plain": [
       "   duration_sec                start_time                  end_time  \\\n",
       "0         62337  2019-10-31 16:25:01.5970  2019-11-01 09:43:59.0290   \n",
       "1         72610  2019-10-31 13:04:11.1950  2019-11-01 09:14:21.8050   \n",
       "\n",
       "   start_station_id      start_station_name  start_station_latitude  \\\n",
       "0               148    Horton St at 40th St               37.829705   \n",
       "1               376  Illinois St at 20th St               37.760458   \n",
       "\n",
       "   start_station_longitude  end_station_id  \\\n",
       "0               -122.28761             385   \n",
       "1               -122.38754              30   \n",
       "\n",
       "                                 end_station_name  end_station_latitude  \\\n",
       "0                     Woolsey St at Sacramento St             37.850578   \n",
       "1  San Francisco Caltrain (Townsend St at 4th St)             37.776598   \n",
       "\n",
       "   end_station_longitude  bike_id user_type  member_birth_year member_gender  \\\n",
       "0            -122.278175    12222  Customer                NaN           NaN   \n",
       "1            -122.395282      282  Customer                NaN           NaN   \n",
       "\n",
       "  bike_share_for_all_trip  \n",
       "0                      No  \n",
       "1                      No  "
      ]
     },
     "execution_count": 3,
     "metadata": {},
     "output_type": "execute_result"
    }
   ],
   "source": [
    "df_raw = pd.read_csv(\"201910-baywheels-tripdata.csv\")\n",
    "print(df_raw.columns)\n",
    "df_raw.head(2)"
   ]
  },
  {
   "cell_type": "code",
   "execution_count": 4,
   "metadata": {},
   "outputs": [],
   "source": [
    "## Add hour of day and day of week features\n",
    "dt_vec = df_raw['start_time'].apply(lambda x: parse(x))\n",
    "hod_col = dt_vec.apply(lambda x: x.hour)\n",
    "dow_col = dt_vec.apply(lambda x: x.weekday())\n",
    "    \n",
    "df_raw[\"start_hour_of_day\"] = hod_col\n",
    "df_raw[\"start_day_of_week\"] = dow_col"
   ]
  },
  {
   "cell_type": "code",
   "execution_count": null,
   "metadata": {},
   "outputs": [],
   "source": []
  },
  {
   "cell_type": "code",
   "execution_count": null,
   "metadata": {},
   "outputs": [],
   "source": []
  },
  {
   "cell_type": "markdown",
   "metadata": {},
   "source": [
    "### Exploratory Data Analysis"
   ]
  },
  {
   "cell_type": "code",
   "execution_count": 6,
   "metadata": {},
   "outputs": [],
   "source": [
    "### Create new data set grouped by station\n",
    "df=df_raw\n",
    "df_stat = pd.DataFrame([])\n",
    "station_id_list = np.sort(df[\"start_station_id\"].unique())\n",
    "df_stat[\"station_id\"] = station_id_list\n",
    "\n",
    "df_stat[\"start_station_latitude\"]  = df_stat[\"station_id\"].apply(lambda x: float(df_raw[df_raw[\"start_station_id\"] == x].head(1)[\"start_station_latitude\"]))\n",
    "df_stat[\"start_station_longitude\"] = df_stat[\"station_id\"].apply(lambda x: float(df_raw[df_raw[\"start_station_id\"] == x].head(1)[\"start_station_longitude\"]))\n",
    "df_stat[\"start_trip_count\"] = df_stat[\"station_id\"].apply(lambda x: len(df_raw[df_raw[\"start_station_id\"] == x]))"
   ]
  },
  {
   "cell_type": "code",
   "execution_count": 270,
   "metadata": {},
   "outputs": [
    {
     "data": {
      "text/html": [
       "<div style=\"width:100%;\"><div style=\"position:relative;width:100%;height:0;padding-bottom:60%;\"><iframe src=\"data:text/html;charset=utf-8;base64,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\" style=\"position:absolute;width:100%;height:100%;left:0;top:0;border:none !important;\" allowfullscreen webkitallowfullscreen mozallowfullscreen></iframe></div></div>"
      ],
      "text/plain": [
       "<folium.folium.Map at 0x1a22ff01d0>"
      ]
     },
     "execution_count": 270,
     "metadata": {},
     "output_type": "execute_result"
    }
   ],
   "source": [
    "### Visualize bike usage by starting station\n",
    "from folium import plugins\n",
    "import folium as folium\n",
    "import pandas as pd\n",
    "import matplotlib.pyplot as plt\n",
    "import seaborn as sns\n",
    "\n",
    "m = folium.Map([37.7756925, -122.4204695], zoom_start=13)\n",
    "# convert to (n, 2) nd-array format for heatmap\n",
    "station_data = df_stat[['start_station_latitude', 'start_station_longitude', 'start_trip_count']].values\n",
    "\n",
    "## Convert startig trip count to quantiles for visualization\n",
    "d = station_data[:,2]\n",
    "qrange = np.arange(0,100,1.25)\n",
    "quantiles = np.percentile(d, qrange)\n",
    "station_data[:,2] = np.searchsorted(quantiles, d)/len(qrange)\n",
    "\n",
    "# plot heatmap\n",
    "m.add_child(plugins.HeatMap(station_data, max_zoom = 13, max_val=1, radius = 8, blur=2))"
   ]
  },
  {
   "cell_type": "markdown",
   "metadata": {},
   "source": [
    "### Learning a bike demand distribution map using K-nearest neighbors"
   ]
  },
  {
   "cell_type": "code",
   "execution_count": 8,
   "metadata": {},
   "outputs": [
    {
     "data": {
      "text/plain": [
       "KNeighborsRegressor(algorithm='auto', leaf_size=30, metric='minkowski',\n",
       "                    metric_params=None, n_jobs=None, n_neighbors=4, p=2,\n",
       "                    weights='distance')"
      ]
     },
     "execution_count": 8,
     "metadata": {},
     "output_type": "execute_result"
    }
   ],
   "source": [
    "from sklearn.neighbors import KNeighborsRegressor\n",
    "\n",
    "station_data = df_stat[['start_station_latitude', 'start_station_longitude', 'start_trip_count']].values\n",
    "X = station_data[:,[0, 1]]\n",
    "y = station_data[:,2]\n",
    "neigh = KNeighborsRegressor(n_neighbors=4, weights = 'distance')\n",
    "neigh.fit(X, y)"
   ]
  },
  {
   "cell_type": "code",
   "execution_count": 312,
   "metadata": {},
   "outputs": [
    {
     "data": {
      "text/html": [
       "<div style=\"width:100%;\"><div style=\"position:relative;width:100%;height:0;padding-bottom:60%;\"><iframe src=\"data:text/html;charset=utf-8;base64,PCFET0NUWVBFIGh0bWw+CjxoZWFkPiAgICAKICAgIDxtZXRhIGh0dHAtZXF1aXY9ImNvbnRlbnQtdHlwZSIgY29udGVudD0idGV4dC9odG1sOyBjaGFyc2V0PVVURi04IiAvPgogICAgCiAgICAgICAgPHNjcmlwdD4KICAgICAgICAgICAgTF9OT19UT1VDSCA9IGZhbHNlOwogICAgICAgICAgICBMX0RJU0FCTEVfM0QgPSBmYWxzZTsKICAgICAgICA8L3NjcmlwdD4KICAgIAogICAgPHNjcmlwdCBzcmM9Imh0dHBzOi8vY2RuLmpzZGVsaXZyLm5ldC9ucG0vbGVhZmxldEAxLjUuMS9kaXN0L2xlYWZsZXQuanMiPjwvc2NyaXB0PgogICAgPHNjcmlwdCBzcmM9Imh0dHBzOi8vY29kZS5qcXVlcnkuY29tL2pxdWVyeS0xLjEyLjQubWluLmpzIj48L3NjcmlwdD4KICAgIDxzY3JpcHQgc3JjPSJodHRwczovL21heGNkbi5ib290c3RyYXBjZG4uY29tL2Jvb3RzdHJhcC8zLjIuMC9qcy9ib290c3RyYXAubWluLmpzIj48L3NjcmlwdD4KICAgIDxzY3JpcHQgc3JjPSJodHRwczovL2NkbmpzLmNsb3VkZmxhcmUuY29tL2FqYXgvbGlicy9MZWFmbGV0LmF3ZXNvbWUtbWFya2Vycy8yLjAuMi9sZWFmbGV0LmF3ZXNvbWUtbWFya2Vycy5qcyI+PC9zY3JpcHQ+CiAgICA8bGluayByZWw9InN0eWxlc2hlZXQiIGhyZWY9Imh0dHBzOi8vY2RuLmpzZGVsaXZyLm5ldC9ucG0vbGVhZmxldEAxLjUuMS9kaXN0L2xlYWZsZXQuY3NzIi8+CiAgICA8bGluayByZWw9InN0eWxlc2hlZXQiIGhyZWY9Imh0dHBzOi8vbWF4Y2RuLmJvb3RzdHJhcGNkbi5jb20vYm9vdHN0cmFwLzMuMi4wL2Nzcy9ib290c3RyYXAubWluLmNzcyIvPgogICAgPGxpbmsgcmVsPSJzdHlsZXNoZWV0IiBocmVmPSJodHRwczovL21heGNkbi5ib290c3RyYXBjZG4uY29tL2Jvb3RzdHJhcC8zLjIuMC9jc3MvYm9vdHN0cmFwLXRoZW1lLm1pbi5jc3MiLz4KICAgIDxsaW5rIHJlbD0ic3R5bGVzaGVldCIgaHJlZj0iaHR0cHM6Ly9tYXhjZG4uYm9vdHN0cmFwY2RuLmNvbS9mb250LWF3ZXNvbWUvNC42LjMvY3NzL2ZvbnQtYXdlc29tZS5taW4uY3NzIi8+CiAgICA8bGluayByZWw9InN0eWxlc2hlZXQiIGhyZWY9Imh0dHBzOi8vY2RuanMuY2xvdWRmbGFyZS5jb20vYWpheC9saWJzL0xlYWZsZXQuYXdlc29tZS1tYXJrZXJzLzIuMC4yL2xlYWZsZXQuYXdlc29tZS1tYXJrZXJzLmNzcyIvPgogICAgPGxpbmsgcmVsPSJzdHlsZXNoZWV0IiBocmVmPSJodHRwczovL3Jhd2Nkbi5naXRoYWNrLmNvbS9weXRob24tdmlzdWFsaXphdGlvbi9mb2xpdW0vbWFzdGVyL2ZvbGl1bS90ZW1wbGF0ZXMvbGVhZmxldC5hd2Vzb21lLnJvdGF0ZS5jc3MiLz4KICAgIDxzdHlsZT5odG1sLCBib2R5IHt3aWR0aDogMTAwJTtoZWlnaHQ6IDEwMCU7bWFyZ2luOiAwO3BhZGRpbmc6IDA7fTwvc3R5bGU+CiAgICA8c3R5bGU+I21hcCB7cG9zaXRpb246YWJzb2x1dGU7dG9wOjA7Ym90dG9tOjA7cmlnaHQ6MDtsZWZ0OjA7fTwvc3R5bGU+CiAgICAKICAgICAgICAgICAgPG1ldGEgbmFtZT0idmlld3BvcnQiIGNvbnRlbnQ9IndpZHRoPWRldmljZS13aWR0aCwKICAgICAgICAgICAgICAgIGluaXRpYWwtc2NhbGU9MS4wLCBtYXhpbXVtLXNjYWxlPTEuMCwgdXNlci1zY2FsYWJsZT1ubyIgLz4KICAgICAgICAgICAgPHN0eWxlPgogICAgICAgICAgICAgICAgI21hcF81ZGQxOGM1NjBlNWI0ZDIyYjUzNDg0ODA1NjdkNzk3OSB7CiAgICAgICAgICAgICAgICAgICAgcG9zaXRpb246IHJlbGF0aXZlOwogICAgICAgICAgICAgICAgICAgIHdpZHRoOiAxMDAuMCU7CiAgICAgICAgICAgICAgICAgICAgaGVpZ2h0OiAxMDAuMCU7CiAgICAgICAgICAgICAgICAgICAgbGVmdDogMC4wJTsKICAgICAgICAgICAgICAgICAgICB0b3A6IDAuMCU7CiAgICAgICAgICAgICAgICB9CiAgICAgICAgICAgIDwvc3R5bGU+CiAgICAgICAgCiAgICA8c2NyaXB0IHNyYz0iaHR0cHM6Ly9sZWFmbGV0LmdpdGh1Yi5pby9MZWFmbGV0LmhlYXQvZGlzdC9sZWFmbGV0LWhlYXQuanMiPjwvc2NyaXB0Pgo8L2hlYWQ+Cjxib2R5PiAgICAKICAgIAogICAgICAgICAgICA8ZGl2IGNsYXNzPSJmb2xpdW0tbWFwIiBpZD0ibWFwXzVkZDE4YzU2MGU1YjRkMjJiNTM0ODQ4MDU2N2Q3OTc5IiA+PC9kaXY+CiAgICAgICAgCjwvYm9keT4KPHNjcmlwdD4gICAgCiAgICAKICAgICAgICAgICAgdmFyIG1hcF81ZGQxOGM1NjBlNWI0ZDIyYjUzNDg0ODA1NjdkNzk3OSA9IEwubWFwKAogICAgICAgICAgICAgICAgIm1hcF81ZGQxOGM1NjBlNWI0ZDIyYjUzNDg0ODA1NjdkNzk3OSIsCiAgICAgICAgICAgICAgICB7CiAgICAgICAgICAgICAgICAgICAgY2VudGVyOiBbMzcuNzc1MTkyNSwgLTEyMi40MzM0Njk1XSwKICAgICAgICAgICAgICAgICAgICBjcnM6IEwuQ1JTLkVQU0czODU3LAogICAgICAgICAgICAgICAgICAgIHpvb206IDEzLAogICAgICAgICAgICAgICAgICAgIHpvb21Db250cm9sOiB0cnVlLAogICAgICAgICAgICAgICAgICAgIHByZWZlckNhbnZhczogZmFsc2UsCiAgICAgICAgICAgICAgICB9CiAgICAgICAgICAgICk7CgogICAgICAgICAgICAKCiAgICAgICAgCiAgICAKICAgICAgICAgICAgdmFyIHRpbGVfbGF5ZXJfNzY0YWE1N2NkMWE5NDlhYmI4MDgzZWNiMTU1NGE5MTEgPSBMLnRpbGVMYXllcigKICAgICAgICAgICAgICAgICJodHRwczovL3tzfS50aWxlLm9wZW5zdHJlZXRtYXAub3JnL3t6fS97eH0ve3l9LnBuZyIsCiAgICAgICAgICAgICAgICB7ImF0dHJpYnV0aW9uIjogIkRhdGEgYnkgXHUwMDI2Y29weTsgXHUwMDNjYSBocmVmPVwiaHR0cDovL29wZW5zdHJlZXRtYXAub3JnXCJcdTAwM2VPcGVuU3RyZWV0TWFwXHUwMDNjL2FcdTAwM2UsIHVuZGVyIFx1MDAzY2EgaHJlZj1cImh0dHA6Ly93d3cub3BlbnN0cmVldG1hcC5vcmcvY29weXJpZ2h0XCJcdTAwM2VPRGJMXHUwMDNjL2FcdTAwM2UuIiwgImRldGVjdFJldGluYSI6IGZhbHNlLCAibWF4TmF0aXZlWm9vbSI6IDE4LCAibWF4Wm9vbSI6IDE4LCAibWluWm9vbSI6IDAsICJub1dyYXAiOiBmYWxzZSwgIm9wYWNpdHkiOiAxLCAic3ViZG9tYWlucyI6ICJhYmMiLCAidG1zIjogZmFsc2V9CiAgICAgICAgICAgICkuYWRkVG8obWFwXzVkZDE4YzU2MGU1YjRkMjJiNTM0ODQ4MDU2N2Q3OTc5KTsKICAgICAgICAKICAgIAogICAgICAgICAgICB2YXIgaGVhdF9tYXBfODE0NWIzZGFlYjdhNGZiMGI1NjgwMTQ2YTg0OTc3NTcgPSBMLmhlYXRMYXllcigKICAgICAgICAgICAgICAgIFtbMzcuNzQ4NTY2LCAtMTIyLjQ3NzAzNCwgMC4xMzc1XSwgWzM3Ljc0ODU2NiwgLTEyMi40NzQxMjk3LCAwLjIxMjVdLCBbMzcuNzQ4NTY2LCAtMTIyLjQ3MTIyNTQwMDAwMDAxLCAwLjJdLCBbMzcuNzQ4NTY2LCAtMTIyLjQ2ODMyMTEsIDAuMl0sIFszNy43NDg1NjYsIC0xMjIuNDY1NDE2OCwgMC4yMzc1XSwgWzM3Ljc0ODU2NiwgLTEyMi40NjI1MTI1LCAwLjIzNzVdLCBbMzcuNzQ4NTY2LCAtMTIyLjQ1OTYwODIsIDAuMjM3NV0sIFszNy43NDg1NjYsIC0xMjIuNDU2NzAzOTAwMDAwMDEsIDAuMjEyNV0sIFszNy43NDg1NjYsIC0xMjIuNDUzNzk5NiwgMC4yODc1XSwgWzM3Ljc0ODU2NiwgLTEyMi40NTA4OTUzLCAwLjNdLCBbMzcuNzQ4NTY2LCAtMTIyLjQ0Nzk5MSwgMC4zMjVdLCBbMzcuNzQ4NTY2LCAtMTIyLjQ0NTA4NjcsIDAuNDM3NV0sIFszNy43NDg1NjYsIC0xMjIuNDQyMTgyNDAwMDAwMDEsIDAuNDM3NV0sIFszNy43NDg1NjYsIC0xMjIuNDM5Mjc4MSwgMC40ODc1XSwgWzM3Ljc0ODU2NiwgLTEyMi40MzYzNzM4LCAwLjQ4NzVdLCBbMzcuNzQ4NTY2LCAtMTIyLjQzMzQ2OTUsIDAuNDc1XSwgWzM3Ljc0ODU2NiwgLTEyMi40MzA1NjUyLCAwLjM4NzVdLCBbMzcuNzQ4NTY2LCAtMTIyLjQyNzY2MDksIDAuM10sIFszNy43NDg1NjYsIC0xMjIuNDI0NzU2NiwgMC4yMTI1XSwgWzM3Ljc0ODU2NiwgLTEyMi40MjE4NTIzLCAwLjQ3NV0sIFszNy43NDg1NjYsIC0xMjIuNDE4OTQ4LCAwLjYzNzVdLCBbMzcuNzQ4NTY2LCAtMTIyLjQxNjA0MzcsIDAuNjg3NV0sIFszNy43NDg1NjYsIC0xMjIuNDEzMTM5NCwgMC42Mzc1XSwgWzM3Ljc0ODU2NiwgLTEyMi40MTAyMzUxLCAwLjU2MjVdLCBbMzcuNzQ4NTY2LCAtMTIyLjQwNzMzMDgsIDAuNDc1XSwgWzM3Ljc0ODU2NiwgLTEyMi40MDQ0MjY1LCAwLjRdLCBbMzcuNzQ4NTY2LCAtMTIyLjQwMTUyMjIsIDAuNDEyNV0sIFszNy43NDg1NjYsIC0xMjIuMzk4NjE3OSwgMC40NjI1XSwgWzM3Ljc0ODU2NiwgLTEyMi4zOTU3MTM2LCAwLjUzNzVdLCBbMzcuNzQ4NTY2LCAtMTIyLjM5MjgwOTMsIDAuNDI1XSwgWzM3Ljc1MDM0MTEsIC0xMjIuNDc3MDM0LCAwLjIzNzVdLCBbMzcuNzUwMzQxMSwgLTEyMi40NzQxMjk3LCAwLjIyNV0sIFszNy43NTAzNDExLCAtMTIyLjQ3MTIyNTQwMDAwMDAxLCAwLjNdLCBbMzcuNzUwMzQxMSwgLTEyMi40NjgzMjExLCAwLjNdLCBbMzcuNzUwMzQxMSwgLTEyMi40NjU0MTY4LCAwLjNdLCBbMzcuNzUwMzQxMSwgLTEyMi40NjI1MTI1LCAwLjNdLCBbMzcuNzUwMzQxMSwgLTEyMi40NTk2MDgyLCAwLjI1XSwgWzM3Ljc1MDM0MTEsIC0xMjIuNDU2NzAzOTAwMDAwMDEsIDAuMzYyNV0sIFszNy43NTAzNDExLCAtMTIyLjQ1Mzc5OTYsIDAuM10sIFszNy43NTAzNDExLCAtMTIyLjQ1MDg5NTMsIDAuMzI1XSwgWzM3Ljc1MDM0MTEsIC0xMjIuNDQ3OTkxLCAwLjQ2MjVdLCBbMzcuNzUwMzQxMSwgLTEyMi40NDUwODY3LCAwLjQ2MjVdLCBbMzcuNzUwMzQxMSwgLTEyMi40NDIxODI0MDAwMDAwMSwgMC40Mzc1XSwgWzM3Ljc1MDM0MTEsIC0xMjIuNDM5Mjc4MSwgMC40Mzc1XSwgWzM3Ljc1MDM0MTEsIC0xMjIuNDM2MzczOCwgMC40ODc1XSwgWzM3Ljc1MDM0MTEsIC0xMjIuNDMzNDY5NSwgMC40NzVdLCBbMzcuNzUwMzQxMSwgLTEyMi40MzA1NjUyLCAwLjRdLCBbMzcuNzUwMzQxMSwgLTEyMi40Mjc2NjA5LCAwLjM3NV0sIFszNy43NTAzNDExLCAtMTIyLjQyNDc1NjYsIDAuNDI1XSwgWzM3Ljc1MDM0MTEsIC0xMjIuNDIxODUyMywgMC42NV0sIFszNy43NTAzNDExLCAtMTIyLjQxODk0OCwgMC43ODc1XSwgWzM3Ljc1MDM0MTEsIC0xMjIuNDE2MDQzNywgMC43NjI1XSwgWzM3Ljc1MDM0MTEsIC0xMjIuNDEzMTM5NCwgMC43XSwgWzM3Ljc1MDM0MTEsIC0xMjIuNDEwMjM1MSwgMC41ODc1XSwgWzM3Ljc1MDM0MTEsIC0xMjIuNDA3MzMwOCwgMC40MjVdLCBbMzcuNzUwMzQxMSwgLTEyMi40MDQ0MjY1LCAwLjI4NzVdLCBbMzcuNzUwMzQxMSwgLTEyMi40MDE1MjIyLCAwLjRdLCBbMzcuNzUwMzQxMSwgLTEyMi4zOTg2MTc5LCAwLjVdLCBbMzcuNzUwMzQxMSwgLTEyMi4zOTU3MTM2LCAwLjU2MjVdLCBbMzcuNzUwMzQxMSwgLTEyMi4zOTI4MDkzLCAwLjQyNV0sIFszNy43NTIxMTYxOTk5OTk5OTYsIC0xMjIuNDc3MDM0LCAwLjIzNzVdLCBbMzcuNzUyMTE2MTk5OTk5OTk2LCAtMTIyLjQ3NDEyOTcsIDAuMjEyNV0sIFszNy43NTIxMTYxOTk5OTk5OTYsIC0xMjIuNDcxMjI1NDAwMDAwMDEsIDAuMzM3NV0sIFszNy43NTIxMTYxOTk5OTk5OTYsIC0xMjIuNDY4MzIxMSwgMC4zMzc1XSwgWzM3Ljc1MjExNjE5OTk5OTk5NiwgLTEyMi40NjU0MTY4LCAwLjM1XSwgWzM3Ljc1MjExNjE5OTk5OTk5NiwgLTEyMi40NjI1MTI1LCAwLjMxMjVdLCBbMzcuNzUyMTE2MTk5OTk5OTk2LCAtMTIyLjQ1OTYwODIsIDAuMjg3NV0sIFszNy43NTIxMTYxOTk5OTk5OTYsIC0xMjIuNDU2NzAzOTAwMDAwMDEsIDAuMzg3NV0sIFszNy43NTIxMTYxOTk5OTk5OTYsIC0xMjIuNDUzNzk5NiwgMC41XSwgWzM3Ljc1MjExNjE5OTk5OTk5NiwgLTEyMi40NTA4OTUzLCAwLjVdLCBbMzcuNzUyMTE2MTk5OTk5OTk2LCAtMTIyLjQ0Nzk5MSwgMC40NjI1XSwgWzM3Ljc1MjExNjE5OTk5OTk5NiwgLTEyMi40NDUwODY3LCAwLjQ2MjVdLCBbMzcuNzUyMTE2MTk5OTk5OTk2LCAtMTIyLjQ0MjE4MjQwMDAwMDAxLCAwLjQzNzVdLCBbMzcuNzUyMTE2MTk5OTk5OTk2LCAtMTIyLjQzOTI3ODEsIDAuNDVdLCBbMzcuNzUyMTE2MTk5OTk5OTk2LCAtMTIyLjQzNjM3MzgsIDAuNDVdLCBbMzcuNzUyMTE2MTk5OTk5OTk2LCAtMTIyLjQzMzQ2OTUsIDAuNDg3NV0sIFszNy43NTIxMTYxOTk5OTk5OTYsIC0xMjIuNDMwNTY1MiwgMC40NzVdLCBbMzcuNzUyMTE2MTk5OTk5OTk2LCAtMTIyLjQyNzY2MDksIDAuNDM3NV0sIFszNy43NTIxMTYxOTk5OTk5OTYsIC0xMjIuNDI0NzU2NiwgMC41NjI1XSwgWzM3Ljc1MjExNjE5OTk5OTk5NiwgLTEyMi40MjE4NTIzLCAwLjhdLCBbMzcuNzUyMTE2MTk5OTk5OTk2LCAtMTIyLjQxODk0OCwgMC44Mzc1XSwgWzM3Ljc1MjExNjE5OTk5OTk5NiwgLTEyMi40MTYwNDM3LCAwLjgyNV0sIFszNy43NTIxMTYxOTk5OTk5OTYsIC0xMjIuNDEzMTM5NCwgMC43Mzc1XSwgWzM3Ljc1MjExNjE5OTk5OTk5NiwgLTEyMi40MTAyMzUxLCAwLjU4NzVdLCBbMzcuNzUyMTE2MTk5OTk5OTk2LCAtMTIyLjQwNzMzMDgsIDAuNDEyNV0sIFszNy43NTIxMTYxOTk5OTk5OTYsIC0xMjIuNDA0NDI2NSwgMC4yODc1XSwgWzM3Ljc1MjExNjE5OTk5OTk5NiwgLTEyMi40MDE1MjIyLCAwLjQxMjVdLCBbMzcuNzUyMTE2MTk5OTk5OTk2LCAtMTIyLjM5ODYxNzksIDAuNTI1XSwgWzM3Ljc1MjExNjE5OTk5OTk5NiwgLTEyMi4zOTU3MTM2LCAwLjZdLCBbMzcuNzUyMTE2MTk5OTk5OTk2LCAtMTIyLjM5MjgwOTMsIDAuNTVdLCBbMzcuNzUzODkxMywgLTEyMi40NzcwMzQsIDAuMTVdLCBbMzcuNzUzODkxMywgLTEyMi40NzQxMjk3LCAwLjIzNzVdLCBbMzcuNzUzODkxMywgLTEyMi40NzEyMjU0MDAwMDAwMSwgMC4zMzc1XSwgWzM3Ljc1Mzg5MTMsIC0xMjIuNDY4MzIxMSwgMC4zMzc1XSwgWzM3Ljc1Mzg5MTMsIC0xMjIuNDY1NDE2OCwgMC4zNV0sIFszNy43NTM4OTEzLCAtMTIyLjQ2MjUxMjUsIDAuMzYyNV0sIFszNy43NTM4OTEzLCAtMTIyLjQ1OTYwODIsIDAuMzYyNV0sIFszNy43NTM4OTEzLCAtMTIyLjQ1NjcwMzkwMDAwMDAxLCAwLjRdLCBbMzcuNzUzODkxMywgLTEyMi40NTM3OTk2LCAwLjVdLCBbMzcuNzUzODkxMywgLTEyMi40NTA4OTUzLCAwLjQ4NzVdLCBbMzcuNzUzODkxMywgLTEyMi40NDc5OTEsIDAuNDVdLCBbMzcuNzUzODkxMywgLTEyMi40NDUwODY3LCAwLjQ2MjVdLCBbMzcuNzUzODkxMywgLTEyMi40NDIxODI0MDAwMDAwMSwgMC40NzVdLCBbMzcuNzUzODkxMywgLTEyMi40MzkyNzgxLCAwLjQ1XSwgWzM3Ljc1Mzg5MTMsIC0xMjIuNDM2MzczOCwgMC40NV0sIFszNy43NTM4OTEzLCAtMTIyLjQzMzQ2OTUsIDAuNDg3NV0sIFszNy43NTM4OTEzLCAtMTIyLjQzMDU2NTIsIDAuNDc1XSwgWzM3Ljc1Mzg5MTMsIC0xMjIuNDI3NjYwOSwgMC40Mzc1XSwgWzM3Ljc1Mzg5MTMsIC0xMjIuNDI0NzU2NiwgMC41Mzc1XSwgWzM3Ljc1Mzg5MTMsIC0xMjIuNDIxODUyMywgMC44MjVdLCBbMzcuNzUzODkxMywgLTEyMi40MTg5NDgsIDAuODM3NV0sIFszNy43NTM4OTEzLCAtMTIyLjQxNjA0MzcsIDAuODI1XSwgWzM3Ljc1Mzg5MTMsIC0xMjIuNDEzMTM5NCwgMC43MTI1XSwgWzM3Ljc1Mzg5MTMsIC0xMjIuNDEwMjM1MSwgMC41NzVdLCBbMzcuNzUzODkxMywgLTEyMi40MDczMzA4LCAwLjVdLCBbMzcuNzUzODkxMywgLTEyMi40MDQ0MjY1LCAwLjQyNV0sIFszNy43NTM4OTEzLCAtMTIyLjQwMTUyMjIsIDAuNTM3NV0sIFszNy43NTM4OTEzLCAtMTIyLjM5ODYxNzksIDAuNTVdLCBbMzcuNzUzODkxMywgLTEyMi4zOTU3MTM2LCAwLjgxMjVdLCBbMzcuNzUzODkxMywgLTEyMi4zOTI4MDkzLCAwLjYzNzVdLCBbMzcuNzU1NjY2Mzk5OTk5OTk2LCAtMTIyLjQ3NzAzNCwgMC4xNV0sIFszNy43NTU2NjYzOTk5OTk5OTYsIC0xMjIuNDc0MTI5NywgMC4yMzc1XSwgWzM3Ljc1NTY2NjM5OTk5OTk5NiwgLTEyMi40NzEyMjU0MDAwMDAwMSwgMC4zMjVdLCBbMzcuNzU1NjY2Mzk5OTk5OTk2LCAtMTIyLjQ2ODMyMTEsIDAuMzM3NV0sIFszNy43NTU2NjYzOTk5OTk5OTYsIC0xMjIuNDY1NDE2OCwgMC4zNV0sIFszNy43NTU2NjYzOTk5OTk5OTYsIC0xMjIuNDYyNTEyNSwgMC4zNV0sIFszNy43NTU2NjYzOTk5OTk5OTYsIC0xMjIuNDU5NjA4MiwgMC4zNjI1XSwgWzM3Ljc1NTY2NjM5OTk5OTk5NiwgLTEyMi40NTY3MDM5MDAwMDAwMSwgMC40XSwgWzM3Ljc1NTY2NjM5OTk5OTk5NiwgLTEyMi40NTM3OTk2LCAwLjU2MjVdLCBbMzcuNzU1NjY2Mzk5OTk5OTk2LCAtMTIyLjQ1MDg5NTMsIDAuNDg3NV0sIFszNy43NTU2NjYzOTk5OTk5OTYsIC0xMjIuNDQ3OTkxLCAwLjQ1XSwgWzM3Ljc1NTY2NjM5OTk5OTk5NiwgLTEyMi40NDUwODY3LCAwLjQ2MjVdLCBbMzcuNzU1NjY2Mzk5OTk5OTk2LCAtMTIyLjQ0MjE4MjQwMDAwMDAxLCAwLjQ2MjVdLCBbMzcuNzU1NjY2Mzk5OTk5OTk2LCAtMTIyLjQzOTI3ODEsIDAuNV0sIFszNy43NTU2NjYzOTk5OTk5OTYsIC0xMjIuNDM2MzczOCwgMC40NV0sIFszNy43NTU2NjYzOTk5OTk5OTYsIC0xMjIuNDMzNDY5NSwgMC40Mzc1XSwgWzM3Ljc1NTY2NjM5OTk5OTk5NiwgLTEyMi40MzA1NjUyLCAwLjQxMjVdLCBbMzcuNzU1NjY2Mzk5OTk5OTk2LCAtMTIyLjQyNzY2MDksIDAuNDEyNV0sIFszNy43NTU2NjYzOTk5OTk5OTYsIC0xMjIuNDI0NzU2NiwgMC41NjI1XSwgWzM3Ljc1NTY2NjM5OTk5OTk5NiwgLTEyMi40MjE4NTIzLCAwLjgxMjVdLCBbMzcuNzU1NjY2Mzk5OTk5OTk2LCAtMTIyLjQxODk0OCwgMC44MjVdLCBbMzcuNzU1NjY2Mzk5OTk5OTk2LCAtMTIyLjQxNjA0MzcsIDAuODI1XSwgWzM3Ljc1NTY2NjM5OTk5OTk5NiwgLTEyMi40MTMxMzk0LCAwLjc3NV0sIFszNy43NTU2NjYzOTk5OTk5OTYsIC0xMjIuNDEwMjM1MSwgMC43XSwgWzM3Ljc1NTY2NjM5OTk5OTk5NiwgLTEyMi40MDczMzA4LCAwLjQ4NzVdLCBbMzcuNzU1NjY2Mzk5OTk5OTk2LCAtMTIyLjQwNDQyNjUsIDAuNDI1XSwgWzM3Ljc1NTY2NjM5OTk5OTk5NiwgLTEyMi40MDE1MjIyLCAwLjZdLCBbMzcuNzU1NjY2Mzk5OTk5OTk2LCAtMTIyLjM5ODYxNzksIDAuNjVdLCBbMzcuNzU1NjY2Mzk5OTk5OTk2LCAtMTIyLjM5NTcxMzYsIDAuODYyNV0sIFszNy43NTU2NjYzOTk5OTk5OTYsIC0xMjIuMzkyODA5MywgMC44NzVdLCBbMzcuNzU3NDQxNSwgLTEyMi40NzcwMzQsIDAuMTVdLCBbMzcuNzU3NDQxNSwgLTEyMi40NzQxMjk3LCAwLjE1XSwgWzM3Ljc1NzQ0MTUsIC0xMjIuNDcxMjI1NDAwMDAwMDEsIDAuMjVdLCBbMzcuNzU3NDQxNSwgLTEyMi40NjgzMjExLCAwLjMyNV0sIFszNy43NTc0NDE1LCAtMTIyLjQ2NTQxNjgsIDAuMzM3NV0sIFszNy43NTc0NDE1LCAtMTIyLjQ2MjUxMjUsIDAuMzVdLCBbMzcuNzU3NDQxNSwgLTEyMi40NTk2MDgyLCAwLjM2MjVdLCBbMzcuNzU3NDQxNSwgLTEyMi40NTY3MDM5MDAwMDAwMSwgMC4zMTI1XSwgWzM3Ljc1NzQ0MTUsIC0xMjIuNDUzNzk5NiwgMC40XSwgWzM3Ljc1NzQ0MTUsIC0xMjIuNDUwODk1MywgMC41NjI1XSwgWzM3Ljc1NzQ0MTUsIC0xMjIuNDQ3OTkxLCAwLjQ3NV0sIFszNy43NTc0NDE1LCAtMTIyLjQ0NTA4NjcsIDAuNDVdLCBbMzcuNzU3NDQxNSwgLTEyMi40NDIxODI0MDAwMDAwMSwgMC40NjI1XSwgWzM3Ljc1NzQ0MTUsIC0xMjIuNDM5Mjc4MSwgMC41XSwgWzM3Ljc1NzQ0MTUsIC0xMjIuNDM2MzczOCwgMC40Mzc1XSwgWzM3Ljc1NzQ0MTUsIC0xMjIuNDMzNDY5NSwgMC40Mzc1XSwgWzM3Ljc1NzQ0MTUsIC0xMjIuNDMwNTY1MiwgMC41XSwgWzM3Ljc1NzQ0MTUsIC0xMjIuNDI3NjYwOSwgMC40NzVdLCBbMzcuNzU3NDQxNSwgLTEyMi40MjQ3NTY2LCAwLjU3NV0sIFszNy43NTc0NDE1LCAtMTIyLjQyMTg1MjMsIDAuODI1XSwgWzM3Ljc1NzQ0MTUsIC0xMjIuNDE4OTQ4LCAwLjhdLCBbMzcuNzU3NDQxNSwgLTEyMi40MTYwNDM3LCAwLjhdLCBbMzcuNzU3NDQxNSwgLTEyMi40MTMxMzk0LCAwLjc1XSwgWzM3Ljc1NzQ0MTUsIC0xMjIuNDEwMjM1MSwgMC43XSwgWzM3Ljc1NzQ0MTUsIC0xMjIuNDA3MzMwOCwgMC42MjVdLCBbMzcuNzU3NDQxNSwgLTEyMi40MDQ0MjY1LCAwLjUyNV0sIFszNy43NTc0NDE1LCAtMTIyLjQwMTUyMjIsIDAuNjYyNV0sIFszNy43NTc0NDE1LCAtMTIyLjM5ODYxNzksIDAuODg3NV0sIFszNy43NTc0NDE1LCAtMTIyLjM5NTcxMzYsIDAuOTEyNV0sIFszNy43NTc0NDE1LCAtMTIyLjM5MjgwOTMsIDAuOTI1XSwgWzM3Ljc1OTIxNjU5OTk5OTk5NSwgLTEyMi40NzcwMzQsIDAuMTVdLCBbMzcuNzU5MjE2NTk5OTk5OTk1LCAtMTIyLjQ3NDEyOTcsIDAuMTVdLCBbMzcuNzU5MjE2NTk5OTk5OTk1LCAtMTIyLjQ3MTIyNTQwMDAwMDAxLCAwLjI1XSwgWzM3Ljc1OTIxNjU5OTk5OTk5NSwgLTEyMi40NjgzMjExLCAwLjMyNV0sIFszNy43NTkyMTY1OTk5OTk5OTUsIC0xMjIuNDY1NDE2OCwgMC4zMzc1XSwgWzM3Ljc1OTIxNjU5OTk5OTk5NSwgLTEyMi40NjI1MTI1LCAwLjM1XSwgWzM3Ljc1OTIxNjU5OTk5OTk5NSwgLTEyMi40NTk2MDgyLCAwLjM3NV0sIFszNy43NTkyMTY1OTk5OTk5OTUsIC0xMjIuNDU2NzAzOTAwMDAwMDEsIDAuMzEyNV0sIFszNy43NTkyMTY1OTk5OTk5OTUsIC0xMjIuNDUzNzk5NiwgMC40XSwgWzM3Ljc1OTIxNjU5OTk5OTk5NSwgLTEyMi40NTA4OTUzLCAwLjU1XSwgWzM3Ljc1OTIxNjU5OTk5OTk5NSwgLTEyMi40NDc5OTEsIDAuNTVdLCBbMzcuNzU5MjE2NTk5OTk5OTk1LCAtMTIyLjQ0NTA4NjcsIDAuNTM3NV0sIFszNy43NTkyMTY1OTk5OTk5OTUsIC0xMjIuNDQyMTgyNDAwMDAwMDEsIDAuNDg3NV0sIFszNy43NTkyMTY1OTk5OTk5OTUsIC0xMjIuNDM5Mjc4MSwgMC40NV0sIFszNy43NTkyMTY1OTk5OTk5OTUsIC0xMjIuNDM2MzczOCwgMC40NV0sIFszNy43NTkyMTY1OTk5OTk5OTUsIC0xMjIuNDMzNDY5NSwgMC40NzVdLCBbMzcuNzU5MjE2NTk5OTk5OTk1LCAtMTIyLjQzMDU2NTIsIDAuNDc1XSwgWzM3Ljc1OTIxNjU5OTk5OTk5NSwgLTEyMi40Mjc2NjA5LCAwLjUyNV0sIFszNy43NTkyMTY1OTk5OTk5OTUsIC0xMjIuNDI0NzU2NiwgMC41ODc1XSwgWzM3Ljc1OTIxNjU5OTk5OTk5NSwgLTEyMi40MjE4NTIzLCAwLjg1XSwgWzM3Ljc1OTIxNjU5OTk5OTk5NSwgLTEyMi40MTg5NDgsIDAuNzYyNV0sIFszNy43NTkyMTY1OTk5OTk5OTUsIC0xMjIuNDE2MDQzNywgMC43NV0sIFszNy43NTkyMTY1OTk5OTk5OTUsIC0xMjIuNDEzMTM5NCwgMC43NzVdLCBbMzcuNzU5MjE2NTk5OTk5OTk1LCAtMTIyLjQxMDIzNTEsIDAuNjVdLCBbMzcuNzU5MjE2NTk5OTk5OTk1LCAtMTIyLjQwNzMzMDgsIDAuNjVdLCBbMzcuNzU5MjE2NTk5OTk5OTk1LCAtMTIyLjQwNDQyNjUsIDAuODEyNV0sIFszNy43NTkyMTY1OTk5OTk5OTUsIC0xMjIuNDAxNTIyMiwgMC44NjI1XSwgWzM3Ljc1OTIxNjU5OTk5OTk5NSwgLTEyMi4zOTg2MTc5LCAwLjkxMjVdLCBbMzcuNzU5MjE2NTk5OTk5OTk1LCAtMTIyLjM5NTcxMzYsIDAuOV0sIFszNy43NTkyMTY1OTk5OTk5OTUsIC0xMjIuMzkyODA5MywgMC45MjVdLCBbMzcuNzYwOTkxNywgLTEyMi40NzcwMzQsIDAuMTM3NV0sIFszNy43NjA5OTE3LCAtMTIyLjQ3NDEyOTcsIDAuMTVdLCBbMzcuNzYwOTkxNywgLTEyMi40NzEyMjU0MDAwMDAwMSwgMC4xNjI1XSwgWzM3Ljc2MDk5MTcsIC0xMjIuNDY4MzIxMSwgMC4yNjI1XSwgWzM3Ljc2MDk5MTcsIC0xMjIuNDY1NDE2OCwgMC4zMjVdLCBbMzcuNzYwOTkxNywgLTEyMi40NjI1MTI1LCAwLjM1XSwgWzM3Ljc2MDk5MTcsIC0xMjIuNDU5NjA4MiwgMC4zNjI1XSwgWzM3Ljc2MDk5MTcsIC0xMjIuNDU2NzAzOTAwMDAwMDEsIDAuMzEyNV0sIFszNy43NjA5OTE3LCAtMTIyLjQ1Mzc5OTYsIDAuMzVdLCBbMzcuNzYwOTkxNywgLTEyMi40NTA4OTUzLCAwLjU1XSwgWzM3Ljc2MDk5MTcsIC0xMjIuNDQ3OTkxLCAwLjU1XSwgWzM3Ljc2MDk5MTcsIC0xMjIuNDQ1MDg2NywgMC41Mzc1XSwgWzM3Ljc2MDk5MTcsIC0xMjIuNDQyMTgyNDAwMDAwMDEsIDAuNDg3NV0sIFszNy43NjA5OTE3LCAtMTIyLjQzOTI3ODEsIDAuNDYyNV0sIFszNy43NjA5OTE3LCAtMTIyLjQzNjM3MzgsIDAuNDYyNV0sIFszNy43NjA5OTE3LCAtMTIyLjQzMzQ2OTUsIDAuNV0sIFszNy43NjA5OTE3LCAtMTIyLjQzMDU2NTIsIDAuNTEyNV0sIFszNy43NjA5OTE3LCAtMTIyLjQyNzY2MDksIDAuNTYyNV0sIFszNy43NjA5OTE3LCAtMTIyLjQyNDc1NjYsIDAuNjM3NV0sIFszNy43NjA5OTE3LCAtMTIyLjQyMTg1MjMsIDAuODc1XSwgWzM3Ljc2MDk5MTcsIC0xMjIuNDE4OTQ4LCAwLjcyNV0sIFszNy43NjA5OTE3LCAtMTIyLjQxNjA0MzcsIDAuNzM3NV0sIFszNy43NjA5OTE3LCAtMTIyLjQxMzEzOTQsIDAuNzc1XSwgWzM3Ljc2MDk5MTcsIC0xMjIuNDEwMjM1MSwgMC42MTI1XSwgWzM3Ljc2MDk5MTcsIC0xMjIuNDA3MzMwOCwgMC42MTI1XSwgWzM3Ljc2MDk5MTcsIC0xMjIuNDA0NDI2NSwgMC44NjI1XSwgWzM3Ljc2MDk5MTcsIC0xMjIuNDAxNTIyMiwgMC44NzVdLCBbMzcuNzYwOTkxNywgLTEyMi4zOTg2MTc5LCAwLjg3NV0sIFszNy43NjA5OTE3LCAtMTIyLjM5NTcxMzYsIDAuODg3NV0sIFszNy43NjA5OTE3LCAtMTIyLjM5MjgwOTMsIDAuOTEyNV0sIFszNy43NjI3NjY4LCAtMTIyLjQ3NzAzNCwgMC4xMzc1XSwgWzM3Ljc2Mjc2NjgsIC0xMjIuNDc0MTI5NywgMC4xNV0sIFszNy43NjI3NjY4LCAtMTIyLjQ3MTIyNTQwMDAwMDAxLCAwLjE2MjVdLCBbMzcuNzYyNzY2OCwgLTEyMi40NjgzMjExLCAwLjI2MjVdLCBbMzcuNzYyNzY2OCwgLTEyMi40NjU0MTY4LCAwLjMxMjVdLCBbMzcuNzYyNzY2OCwgLTEyMi40NjI1MTI1LCAwLjMzNzVdLCBbMzcuNzYyNzY2OCwgLTEyMi40NTk2MDgyLCAwLjM2MjVdLCBbMzcuNzYyNzY2OCwgLTEyMi40NTY3MDM5MDAwMDAwMSwgMC4zMjVdLCBbMzcuNzYyNzY2OCwgLTEyMi40NTM3OTk2LCAwLjM2MjVdLCBbMzcuNzYyNzY2OCwgLTEyMi40NTA4OTUzLCAwLjUyNV0sIFszNy43NjI3NjY4LCAtMTIyLjQ0Nzk5MSwgMC41Mzc1XSwgWzM3Ljc2Mjc2NjgsIC0xMjIuNDQ1MDg2NywgMC41NzVdLCBbMzcuNzYyNzY2OCwgLTEyMi40NDIxODI0MDAwMDAwMSwgMC40ODc1XSwgWzM3Ljc2Mjc2NjgsIC0xMjIuNDM5Mjc4MSwgMC41Mzc1XSwgWzM3Ljc2Mjc2NjgsIC0xMjIuNDM2MzczOCwgMC40NzVdLCBbMzcuNzYyNzY2OCwgLTEyMi40MzM0Njk1LCAwLjU1XSwgWzM3Ljc2Mjc2NjgsIC0xMjIuNDMwNTY1MiwgMC40MjVdLCBbMzcuNzYyNzY2OCwgLTEyMi40Mjc2NjA5LCAwLjZdLCBbMzcuNzYyNzY2OCwgLTEyMi40MjQ3NTY2LCAwLjc4NzVdLCBbMzcuNzYyNzY2OCwgLTEyMi40MjE4NTIzLCAwLjldLCBbMzcuNzYyNzY2OCwgLTEyMi40MTg5NDgsIDAuOF0sIFszNy43NjI3NjY4LCAtMTIyLjQxNjA0MzcsIDAuNjg3NV0sIFszNy43NjI3NjY4LCAtMTIyLjQxMzEzOTQsIDAuNzM3NV0sIFszNy43NjI3NjY4LCAtMTIyLjQxMDIzNTEsIDAuNjI1XSwgWzM3Ljc2Mjc2NjgsIC0xMjIuNDA3MzMwOCwgMC42Mzc1XSwgWzM3Ljc2Mjc2NjgsIC0xMjIuNDA0NDI2NSwgMC44ODc1XSwgWzM3Ljc2Mjc2NjgsIC0xMjIuNDAxNTIyMiwgMC45XSwgWzM3Ljc2Mjc2NjgsIC0xMjIuMzk4NjE3OSwgMC44Mzc1XSwgWzM3Ljc2Mjc2NjgsIC0xMjIuMzk1NzEzNiwgMC44NV0sIFszNy43NjI3NjY4LCAtMTIyLjM5MjgwOTMsIDAuOTVdLCBbMzcuNzY0NTQxOSwgLTEyMi40NzcwMzQsIDAuMTM3NV0sIFszNy43NjQ1NDE5LCAtMTIyLjQ3NDEyOTcsIDAuMTYyNV0sIFszNy43NjQ1NDE5LCAtMTIyLjQ3MTIyNTQwMDAwMDAxLCAwLjE2MjVdLCBbMzcuNzY0NTQxOSwgLTEyMi40NjgzMjExLCAwLjI2MjVdLCBbMzcuNzY0NTQxOSwgLTEyMi40NjU0MTY4LCAwLjI2MjVdLCBbMzcuNzY0NTQxOSwgLTEyMi40NjI1MTI1LCAwLjMyNV0sIFszNy43NjQ1NDE5LCAtMTIyLjQ1OTYwODIsIDAuMzYyNV0sIFszNy43NjQ1NDE5LCAtMTIyLjQ1NjcwMzkwMDAwMDAxLCAwLjMyNV0sIFszNy43NjQ1NDE5LCAtMTIyLjQ1Mzc5OTYsIDAuMzc1XSwgWzM3Ljc2NDU0MTksIC0xMjIuNDUwODk1MywgMC41MTI1XSwgWzM3Ljc2NDU0MTksIC0xMjIuNDQ3OTkxLCAwLjUxMjVdLCBbMzcuNzY0NTQxOSwgLTEyMi40NDUwODY3LCAwLjUyNV0sIFszNy43NjQ1NDE5LCAtMTIyLjQ0MjE4MjQwMDAwMDAxLCAwLjU4NzVdLCBbMzcuNzY0NTQxOSwgLTEyMi40MzkyNzgxLCAwLjUzNzVdLCBbMzcuNzY0NTQxOSwgLTEyMi40MzYzNzM4LCAwLjU1XSwgWzM3Ljc2NDU0MTksIC0xMjIuNDMzNDY5NSwgMC41ODc1XSwgWzM3Ljc2NDU0MTksIC0xMjIuNDMwNTY1MiwgMC41NzVdLCBbMzcuNzY0NTQxOSwgLTEyMi40Mjc2NjA5LCAwLjZdLCBbMzcuNzY0NTQxOSwgLTEyMi40MjQ3NTY2LCAwLjgyNV0sIFszNy43NjQ1NDE5LCAtMTIyLjQyMTg1MjMsIDAuOV0sIFszNy43NjQ1NDE5LCAtMTIyLjQxODk0OCwgMC44Mzc1XSwgWzM3Ljc2NDU0MTksIC0xMjIuNDE2MDQzNywgMC42MTI1XSwgWzM3Ljc2NDU0MTksIC0xMjIuNDEzMTM5NCwgMC43MTI1XSwgWzM3Ljc2NDU0MTksIC0xMjIuNDEwMjM1MSwgMC41Mzc1XSwgWzM3Ljc2NDU0MTksIC0xMjIuNDA3MzMwOCwgMC42Mzc1XSwgWzM3Ljc2NDU0MTksIC0xMjIuNDA0NDI2NSwgMC44ODc1XSwgWzM3Ljc2NDU0MTksIC0xMjIuNDAxNTIyMiwgMC45MjVdLCBbMzcuNzY0NTQxOSwgLTEyMi4zOTg2MTc5LCAwLjddLCBbMzcuNzY0NTQxOSwgLTEyMi4zOTU3MTM2LCAwLjhdLCBbMzcuNzY0NTQxOSwgLTEyMi4zOTI4MDkzLCAwLjkzNzVdLCBbMzcuNzY2MzE3LCAtMTIyLjQ3NzAzNCwgMC4xMzc1XSwgWzM3Ljc2NjMxNywgLTEyMi40NzQxMjk3LCAwLjE1XSwgWzM3Ljc2NjMxNywgLTEyMi40NzEyMjU0MDAwMDAwMSwgMC4xNjI1XSwgWzM3Ljc2NjMxNywgLTEyMi40NjgzMjExLCAwLjE3NV0sIFszNy43NjYzMTcsIC0xMjIuNDY1NDE2OCwgMC4yNjI1XSwgWzM3Ljc2NjMxNywgLTEyMi40NjI1MTI1LCAwLjI3NV0sIFszNy43NjYzMTcsIC0xMjIuNDU5NjA4MiwgMC4zNV0sIFszNy43NjYzMTcsIC0xMjIuNDU2NzAzOTAwMDAwMDEsIDAuMzM3NV0sIFszNy43NjYzMTcsIC0xMjIuNDUzNzk5NiwgMC4zNzVdLCBbMzcuNzY2MzE3LCAtMTIyLjQ1MDg5NTMsIDAuNTEyNV0sIFszNy43NjYzMTcsIC0xMjIuNDQ3OTkxLCAwLjVdLCBbMzcuNzY2MzE3LCAtMTIyLjQ0NTA4NjcsIDAuNTc1XSwgWzM3Ljc2NjMxNywgLTEyMi40NDIxODI0MDAwMDAwMSwgMC42MjVdLCBbMzcuNzY2MzE3LCAtMTIyLjQzOTI3ODEsIDAuNjI1XSwgWzM3Ljc2NjMxNywgLTEyMi40MzYzNzM4LCAwLjY2MjVdLCBbMzcuNzY2MzE3LCAtMTIyLjQzMzQ2OTUsIDAuNjI1XSwgWzM3Ljc2NjMxNywgLTEyMi40MzA1NjUyLCAwLjczNzVdLCBbMzcuNzY2MzE3LCAtMTIyLjQyNzY2MDksIDAuNzEyNV0sIFszNy43NjYzMTcsIC0xMjIuNDI0NzU2NiwgMC43ODc1XSwgWzM3Ljc2NjMxNywgLTEyMi40MjE4NTIzLCAwLjg2MjVdLCBbMzcuNzY2MzE3LCAtMTIyLjQxODk0OCwgMC43ODc1XSwgWzM3Ljc2NjMxNywgLTEyMi40MTYwNDM3LCAwLjZdLCBbMzcuNzY2MzE3LCAtMTIyLjQxMzEzOTQsIDAuNjYyNV0sIFszNy43NjYzMTcsIC0xMjIuNDEwMjM1MSwgMC42NzVdLCBbMzcuNzY2MzE3LCAtMTIyLjQwNzMzMDgsIDAuNzYyNV0sIFszNy43NjYzMTcsIC0xMjIuNDA0NDI2NSwgMC45MTI1XSwgWzM3Ljc2NjMxNywgLTEyMi40MDE1MjIyLCAwLjg2MjVdLCBbMzcuNzY2MzE3LCAtMTIyLjM5ODYxNzksIDAuNzM3NV0sIFszNy43NjYzMTcsIC0xMjIuMzk1NzEzNiwgMC43NjI1XSwgWzM3Ljc2NjMxNywgLTEyMi4zOTI4MDkzLCAwLjk2MjVdLCBbMzcuNzY4MDkyMSwgLTEyMi40NzcwMzQsIDAuMTM3NV0sIFszNy43NjgwOTIxLCAtMTIyLjQ3NDEyOTcsIDAuMTVdLCBbMzcuNzY4MDkyMSwgLTEyMi40NzEyMjU0MDAwMDAwMSwgMC4xNzVdLCBbMzcuNzY4MDkyMSwgLTEyMi40NjgzMjExLCAwLjE3NV0sIFszNy43NjgwOTIxLCAtMTIyLjQ2NTQxNjgsIDAuMjYyNV0sIFszNy43NjgwOTIxLCAtMTIyLjQ2MjUxMjUsIDAuMjc1XSwgWzM3Ljc2ODA5MjEsIC0xMjIuNDU5NjA4MiwgMC4yODc1XSwgWzM3Ljc2ODA5MjEsIC0xMjIuNDU2NzAzOTAwMDAwMDEsIDAuMzM3NV0sIFszNy43NjgwOTIxLCAtMTIyLjQ1Mzc5OTYsIDAuMzg3NV0sIFszNy43NjgwOTIxLCAtMTIyLjQ1MDg5NTMsIDAuNDEyNV0sIFszNy43NjgwOTIxLCAtMTIyLjQ0Nzk5MSwgMC41Mzc1XSwgWzM3Ljc2ODA5MjEsIC0xMjIuNDQ1MDg2NywgMC41ODc1XSwgWzM3Ljc2ODA5MjEsIC0xMjIuNDQyMTgyNDAwMDAwMDEsIDAuNjYyNV0sIFszNy43NjgwOTIxLCAtMTIyLjQzOTI3ODEsIDAuNjg3NV0sIFszNy43NjgwOTIxLCAtMTIyLjQzNjM3MzgsIDAuNzEyNV0sIFszNy43NjgwOTIxLCAtMTIyLjQzMzQ2OTUsIDAuNjVdLCBbMzcuNzY4MDkyMSwgLTEyMi40MzA1NjUyLCAwLjc1XSwgWzM3Ljc2ODA5MjEsIC0xMjIuNDI3NjYwOSwgMC43NjI1XSwgWzM3Ljc2ODA5MjEsIC0xMjIuNDI0NzU2NiwgMC44NV0sIFszNy43NjgwOTIxLCAtMTIyLjQyMTg1MjMsIDAuODM3NV0sIFszNy43NjgwOTIxLCAtMTIyLjQxODk0OCwgMC43MjVdLCBbMzcuNzY4MDkyMSwgLTEyMi40MTYwNDM3LCAwLjU2MjVdLCBbMzcuNzY4MDkyMSwgLTEyMi40MTMxMzk0LCAwLjYzNzVdLCBbMzcuNzY4MDkyMSwgLTEyMi40MTAyMzUxLCAwLjgyNV0sIFszNy43NjgwOTIxLCAtMTIyLjQwNzMzMDgsIDAuODc1XSwgWzM3Ljc2ODA5MjEsIC0xMjIuNDA0NDI2NSwgMC45Mzc1XSwgWzM3Ljc2ODA5MjEsIC0xMjIuNDAxNTIyMiwgMC45MTI1XSwgWzM3Ljc2ODA5MjEsIC0xMjIuMzk4NjE3OSwgMC42NzVdLCBbMzcuNzY4MDkyMSwgLTEyMi4zOTU3MTM2LCAwLjc1XSwgWzM3Ljc2ODA5MjEsIC0xMjIuMzkyODA5MywgMC45NzVdLCBbMzcuNzY5ODY3MiwgLTEyMi40NzcwMzQsIDAuMTI1XSwgWzM3Ljc2OTg2NzIsIC0xMjIuNDc0MTI5NywgMC4xMzc1XSwgWzM3Ljc2OTg2NzIsIC0xMjIuNDcxMjI1NDAwMDAwMDEsIDAuMTc1XSwgWzM3Ljc2OTg2NzIsIC0xMjIuNDY4MzIxMSwgMC4xODc1XSwgWzM3Ljc2OTg2NzIsIC0xMjIuNDY1NDE2OCwgMC4yNV0sIFszNy43Njk4NjcyLCAtMTIyLjQ2MjUxMjUsIDAuMjYyNV0sIFszNy43Njk4NjcyLCAtMTIyLjQ1OTYwODIsIDAuMjg3NV0sIFszNy43Njk4NjcyLCAtMTIyLjQ1NjcwMzkwMDAwMDAxLCAwLjI3NV0sIFszNy43Njk4NjcyLCAtMTIyLjQ1Mzc5OTYsIDAuNDEyNV0sIFszNy43Njk4NjcyLCAtMTIyLjQ1MDg5NTMsIDAuNDEyNV0sIFszNy43Njk4NjcyLCAtMTIyLjQ0Nzk5MSwgMC41NjI1XSwgWzM3Ljc2OTg2NzIsIC0xMjIuNDQ1MDg2NywgMC42XSwgWzM3Ljc2OTg2NzIsIC0xMjIuNDQyMTgyNDAwMDAwMDEsIDAuNjYyNV0sIFszNy43Njk4NjcyLCAtMTIyLjQzOTI3ODEsIDAuNjg3NV0sIFszNy43Njk4NjcyLCAtMTIyLjQzNjM3MzgsIDAuNjg3NV0sIFszNy43Njk4NjcyLCAtMTIyLjQzMzQ2OTUsIDAuNjVdLCBbMzcuNzY5ODY3MiwgLTEyMi40MzA1NjUyLCAwLjcxMjVdLCBbMzcuNzY5ODY3MiwgLTEyMi40Mjc2NjA5LCAwLjc2MjVdLCBbMzcuNzY5ODY3MiwgLTEyMi40MjQ3NTY2LCAwLjgxMjVdLCBbMzcuNzY5ODY3MiwgLTEyMi40MjE4NTIzLCAwLjc4NzVdLCBbMzcuNzY5ODY3MiwgLTEyMi40MTg5NDgsIDAuNjVdLCBbMzcuNzY5ODY3MiwgLTEyMi40MTYwNDM3LCAwLjUyNV0sIFszNy43Njk4NjcyLCAtMTIyLjQxMzEzOTQsIDAuNjYyNV0sIFszNy43Njk4NjcyLCAtMTIyLjQxMDIzNTEsIDAuODVdLCBbMzcuNzY5ODY3MiwgLTEyMi40MDczMzA4LCAwLjkyNV0sIFszNy43Njk4NjcyLCAtMTIyLjQwNDQyNjUsIDAuOTI1XSwgWzM3Ljc2OTg2NzIsIC0xMjIuNDAxNTIyMiwgMC44NzVdLCBbMzcuNzY5ODY3MiwgLTEyMi4zOTg2MTc5LCAwLjg1XSwgWzM3Ljc2OTg2NzIsIC0xMjIuMzk1NzEzNiwgMC45MTI1XSwgWzM3Ljc2OTg2NzIsIC0xMjIuMzkyODA5MywgMC45NjI1XSwgWzM3Ljc3MTY0MjI5OTk5OTk5NiwgLTEyMi40NzcwMzQsIDAuMV0sIFszNy43NzE2NDIyOTk5OTk5OTYsIC0xMjIuNDc0MTI5NywgMC4xMzc1XSwgWzM3Ljc3MTY0MjI5OTk5OTk5NiwgLTEyMi40NzEyMjU0MDAwMDAwMSwgMC4xNjI1XSwgWzM3Ljc3MTY0MjI5OTk5OTk5NiwgLTEyMi40NjgzMjExLCAwLjE4NzVdLCBbMzcuNzcxNjQyMjk5OTk5OTk2LCAtMTIyLjQ2NTQxNjgsIDAuMl0sIFszNy43NzE2NDIyOTk5OTk5OTYsIC0xMjIuNDYyNTEyNSwgMC4yNV0sIFszNy43NzE2NDIyOTk5OTk5OTYsIC0xMjIuNDU5NjA4MiwgMC4yMzc1XSwgWzM3Ljc3MTY0MjI5OTk5OTk5NiwgLTEyMi40NTY3MDM5MDAwMDAwMSwgMC4yNjI1XSwgWzM3Ljc3MTY0MjI5OTk5OTk5NiwgLTEyMi40NTM3OTk2LCAwLjUyNV0sIFszNy43NzE2NDIyOTk5OTk5OTYsIC0xMjIuNDUwODk1MywgMC40MTI1XSwgWzM3Ljc3MTY0MjI5OTk5OTk5NiwgLTEyMi40NDc5OTEsIDAuNTc1XSwgWzM3Ljc3MTY0MjI5OTk5OTk5NiwgLTEyMi40NDUwODY3LCAwLjY2MjVdLCBbMzcuNzcxNjQyMjk5OTk5OTk2LCAtMTIyLjQ0MjE4MjQwMDAwMDAxLCAwLjY2MjVdLCBbMzcuNzcxNjQyMjk5OTk5OTk2LCAtMTIyLjQzOTI3ODEsIDAuN10sIFszNy43NzE2NDIyOTk5OTk5OTYsIC0xMjIuNDM2MzczOCwgMC43MjVdLCBbMzcuNzcxNjQyMjk5OTk5OTk2LCAtMTIyLjQzMzQ2OTUsIDAuNzM3NV0sIFszNy43NzE2NDIyOTk5OTk5OTYsIC0xMjIuNDMwNTY1MiwgMC42NzVdLCBbMzcuNzcxNjQyMjk5OTk5OTk2LCAtMTIyLjQyNzY2MDksIDAuN10sIFszNy43NzE2NDIyOTk5OTk5OTYsIC0xMjIuNDI0NzU2NiwgMC43XSwgWzM3Ljc3MTY0MjI5OTk5OTk5NiwgLTEyMi40MjE4NTIzLCAwLjc1XSwgWzM3Ljc3MTY0MjI5OTk5OTk5NiwgLTEyMi40MTg5NDgsIDAuODVdLCBbMzcuNzcxNjQyMjk5OTk5OTk2LCAtMTIyLjQxNjA0MzcsIDAuNzI1XSwgWzM3Ljc3MTY0MjI5OTk5OTk5NiwgLTEyMi40MTMxMzk0LCAwLjc3NV0sIFszNy43NzE2NDIyOTk5OTk5OTYsIC0xMjIuNDEwMjM1MSwgMC45MTI1XSwgWzM3Ljc3MTY0MjI5OTk5OTk5NiwgLTEyMi40MDczMzA4LCAwLjkxMjVdLCBbMzcuNzcxNjQyMjk5OTk5OTk2LCAtMTIyLjQwNDQyNjUsIDAuODc1XSwgWzM3Ljc3MTY0MjI5OTk5OTk5NiwgLTEyMi40MDE1MjIyLCAwLjldLCBbMzcuNzcxNjQyMjk5OTk5OTk2LCAtMTIyLjM5ODYxNzksIDAuNzc1XSwgWzM3Ljc3MTY0MjI5OTk5OTk5NiwgLTEyMi4zOTU3MTM2LCAwLjkzNzVdLCBbMzcuNzcxNjQyMjk5OTk5OTk2LCAtMTIyLjM5MjgwOTMsIDAuOTYyNV0sIFszNy43NzM0MTc0LCAtMTIyLjQ3NzAzNCwgMC4wNzVdLCBbMzcuNzczNDE3NCwgLTEyMi40NzQxMjk3LCAwLjExMjVdLCBbMzcuNzczNDE3NCwgLTEyMi40NzEyMjU0MDAwMDAwMSwgMC4xNjI1XSwgWzM3Ljc3MzQxNzQsIC0xMjIuNDY4MzIxMSwgMC4yXSwgWzM3Ljc3MzQxNzQsIC0xMjIuNDY1NDE2OCwgMC4yMTI1XSwgWzM3Ljc3MzQxNzQsIC0xMjIuNDYyNTEyNSwgMC4yXSwgWzM3Ljc3MzQxNzQsIC0xMjIuNDU5NjA4MiwgMC4yMTI1XSwgWzM3Ljc3MzQxNzQsIC0xMjIuNDU2NzAzOTAwMDAwMDEsIDAuMjI1XSwgWzM3Ljc3MzQxNzQsIC0xMjIuNDUzNzk5NiwgMC4yODc1XSwgWzM3Ljc3MzQxNzQsIC0xMjIuNDUwODk1MywgMC4yODc1XSwgWzM3Ljc3MzQxNzQsIC0xMjIuNDQ3OTkxLCAwLjQzNzVdLCBbMzcuNzczNDE3NCwgLTEyMi40NDUwODY3LCAwLjY4NzVdLCBbMzcuNzczNDE3NCwgLTEyMi40NDIxODI0MDAwMDAwMSwgMC42NzVdLCBbMzcuNzczNDE3NCwgLTEyMi40MzkyNzgxLCAwLjY2MjVdLCBbMzcuNzczNDE3NCwgLTEyMi40MzYzNzM4LCAwLjcyNV0sIFszNy43NzM0MTc0LCAtMTIyLjQzMzQ2OTUsIDAuNzI1XSwgWzM3Ljc3MzQxNzQsIC0xMjIuNDMwNTY1MiwgMC42NzVdLCBbMzcuNzczNDE3NCwgLTEyMi40Mjc2NjA5LCAwLjYzNzVdLCBbMzcuNzczNDE3NCwgLTEyMi40MjQ3NTY2LCAwLjY1XSwgWzM3Ljc3MzQxNzQsIC0xMjIuNDIxODUyMywgMC43NjI1XSwgWzM3Ljc3MzQxNzQsIC0xMjIuNDE4OTQ4LCAwLjk2MjVdLCBbMzcuNzczNDE3NCwgLTEyMi40MTYwNDM3LCAwLjg3NV0sIFszNy43NzM0MTc0LCAtMTIyLjQxMzEzOTQsIDAuOV0sIFszNy43NzM0MTc0LCAtMTIyLjQxMDIzNTEsIDAuOTI1XSwgWzM3Ljc3MzQxNzQsIC0xMjIuNDA3MzMwOCwgMC44ODc1XSwgWzM3Ljc3MzQxNzQsIC0xMjIuNDA0NDI2NSwgMC44XSwgWzM3Ljc3MzQxNzQsIC0xMjIuNDAxNTIyMiwgMC43NV0sIFszNy43NzM0MTc0LCAtMTIyLjM5ODYxNzksIDAuOTc1XSwgWzM3Ljc3MzQxNzQsIC0xMjIuMzk1NzEzNiwgMC45Mzc1XSwgWzM3Ljc3MzQxNzQsIC0xMjIuMzkyODA5MywgMC45NzVdLCBbMzcuNzc1MTkyNSwgLTEyMi40NzcwMzQsIDAuMDYyNV0sIFszNy43NzUxOTI1LCAtMTIyLjQ3NDEyOTcsIDAuMDYyNV0sIFszNy43NzUxOTI1LCAtMTIyLjQ3MTIyNTQwMDAwMDAxLCAwLjEzNzVdLCBbMzcuNzc1MTkyNSwgLTEyMi40NjgzMjExLCAwLjE4NzVdLCBbMzcuNzc1MTkyNSwgLTEyMi40NjU0MTY4LCAwLjI3NV0sIFszNy43NzUxOTI1LCAtMTIyLjQ2MjUxMjUsIDAuMl0sIFszNy43NzUxOTI1LCAtMTIyLjQ1OTYwODIsIDAuMTI1XSwgWzM3Ljc3NTE5MjUsIC0xMjIuNDU2NzAzOTAwMDAwMDEsIDAuMl0sIFszNy43NzUxOTI1LCAtMTIyLjQ1Mzc5OTYsIDAuMjEyNV0sIFszNy43NzUxOTI1LCAtMTIyLjQ1MDg5NTMsIDAuMjVdLCBbMzcuNzc1MTkyNSwgLTEyMi40NDc5OTEsIDAuNF0sIFszNy43NzUxOTI1LCAtMTIyLjQ0NTA4NjcsIDAuNTc1XSwgWzM3Ljc3NTE5MjUsIC0xMjIuNDQyMTgyNDAwMDAwMDEsIDAuNjVdLCBbMzcuNzc1MTkyNSwgLTEyMi40MzkyNzgxLCAwLjYyNV0sIFszNy43NzUxOTI1LCAtMTIyLjQzNjM3MzgsIDAuNjM3NV0sIFszNy43NzUxOTI1LCAtMTIyLjQzMzQ2OTUsIDAuN10sIFszNy43NzUxOTI1LCAtMTIyLjQzMDU2NTIsIDAuNjc1XSwgWzM3Ljc3NTE5MjUsIC0xMjIuNDI3NjYwOSwgMC42ODc1XSwgWzM3Ljc3NTE5MjUsIC0xMjIuNDI0NzU2NiwgMC42MjVdLCBbMzcuNzc1MTkyNSwgLTEyMi40MjE4NTIzLCAwLjddLCBbMzcuNzc1MTkyNSwgLTEyMi40MTg5NDgsIDAuOTYyNV0sIFszNy43NzUxOTI1LCAtMTIyLjQxNjA0MzcsIDAuOTg3NV0sIFszNy43NzUxOTI1LCAtMTIyLjQxMzEzOTQsIDAuOTI1XSwgWzM3Ljc3NTE5MjUsIC0xMjIuNDEwMjM1MSwgMC45Mzc1XSwgWzM3Ljc3NTE5MjUsIC0xMjIuNDA3MzMwOCwgMC45MTI1XSwgWzM3Ljc3NTE5MjUsIC0xMjIuNDA0NDI2NSwgMC41ODc1XSwgWzM3Ljc3NTE5MjUsIC0xMjIuNDAxNTIyMiwgMC41NjI1XSwgWzM3Ljc3NTE5MjUsIC0xMjIuMzk4NjE3OSwgMC45MTI1XSwgWzM3Ljc3NTE5MjUsIC0xMjIuMzk1NzEzNiwgMS4wXSwgWzM3Ljc3NTE5MjUsIC0xMjIuMzkyODA5MywgMS4wXSwgWzM3Ljc3Njk2NzYsIC0xMjIuNDc3MDM0LCAwLjA1XSwgWzM3Ljc3Njk2NzYsIC0xMjIuNDc0MTI5NywgMC4wMzc1XSwgWzM3Ljc3Njk2NzYsIC0xMjIuNDcxMjI1NDAwMDAwMDEsIDAuMDYyNV0sIFszNy43NzY5Njc2LCAtMTIyLjQ2ODMyMTEsIDAuMTc1XSwgWzM3Ljc3Njk2NzYsIC0xMjIuNDY1NDE2OCwgMC4yMTI1XSwgWzM3Ljc3Njk2NzYsIC0xMjIuNDYyNTEyNSwgMC4xODc1XSwgWzM3Ljc3Njk2NzYsIC0xMjIuNDU5NjA4MiwgMC4wMzc1XSwgWzM3Ljc3Njk2NzYsIC0xMjIuNDU2NzAzOTAwMDAwMDEsIDAuMDM3NV0sIFszNy43NzY5Njc2LCAtMTIyLjQ1Mzc5OTYsIDAuMTVdLCBbMzcuNzc2OTY3NiwgLTEyMi40NTA4OTUzLCAwLjJdLCBbMzcuNzc2OTY3NiwgLTEyMi40NDc5OTEsIDAuMzc1XSwgWzM3Ljc3Njk2NzYsIC0xMjIuNDQ1MDg2NywgMC41NV0sIFszNy43NzY5Njc2LCAtMTIyLjQ0MjE4MjQwMDAwMDAxLCAwLjY4NzVdLCBbMzcuNzc2OTY3NiwgLTEyMi40MzkyNzgxLCAwLjYyNV0sIFszNy43NzY5Njc2LCAtMTIyLjQzNjM3MzgsIDAuNjEyNV0sIFszNy43NzY5Njc2LCAtMTIyLjQzMzQ2OTUsIDAuNjEyNV0sIFszNy43NzY5Njc2LCAtMTIyLjQzMDU2NTIsIDAuNjM3NV0sIFszNy43NzY5Njc2LCAtMTIyLjQyNzY2MDksIDAuNjc1XSwgWzM3Ljc3Njk2NzYsIC0xMjIuNDI0NzU2NiwgMC42MjVdLCBbMzcuNzc2OTY3NiwgLTEyMi40MjE4NTIzLCAwLjZdLCBbMzcuNzc2OTY3NiwgLTEyMi40MTg5NDgsIDAuOTg3NV0sIFszNy43NzY5Njc2LCAtMTIyLjQxNjA0MzcsIDAuOTg3NV0sIFszNy43NzY5Njc2LCAtMTIyLjQxMzEzOTQsIDAuOTc1XSwgWzM3Ljc3Njk2NzYsIC0xMjIuNDEwMjM1MSwgMC45NV0sIFszNy43NzY5Njc2LCAtMTIyLjQwNzMzMDgsIDAuODg3NV0sIFszNy43NzY5Njc2LCAtMTIyLjQwNDQyNjUsIDAuNzM3NV0sIFszNy43NzY5Njc2LCAtMTIyLjQwMTUyMjIsIDAuNjg3NV0sIFszNy43NzY5Njc2LCAtMTIyLjM5ODYxNzksIDAuOTVdLCBbMzcuNzc2OTY3NiwgLTEyMi4zOTU3MTM2LCAxLjBdLCBbMzcuNzc2OTY3NiwgLTEyMi4zOTI4MDkzLCAxLjBdLCBbMzcuNzc4NzQyNywgLTEyMi40NzcwMzQsIDAuMDI1XSwgWzM3Ljc3ODc0MjcsIC0xMjIuNDc0MTI5NywgMC4wMjVdLCBbMzcuNzc4NzQyNywgLTEyMi40NzEyMjU0MDAwMDAwMSwgMC4wMjVdLCBbMzcuNzc4NzQyNywgLTEyMi40NjgzMjExLCAwLjEzNzVdLCBbMzcuNzc4NzQyNywgLTEyMi40NjU0MTY4LCAwLjE2MjVdLCBbMzcuNzc4NzQyNywgLTEyMi40NjI1MTI1LCAwLjEyNV0sIFszNy43Nzg3NDI3LCAtMTIyLjQ1OTYwODIsIDAuMDM3NV0sIFszNy43Nzg3NDI3LCAtMTIyLjQ1NjcwMzkwMDAwMDAxLCAwLjAzNzVdLCBbMzcuNzc4NzQyNywgLTEyMi40NTM3OTk2LCAwLjAyNV0sIFszNy43Nzg3NDI3LCAtMTIyLjQ1MDg5NTMsIDAuMl0sIFszNy43Nzg3NDI3LCAtMTIyLjQ0Nzk5MSwgMC4yODc1XSwgWzM3Ljc3ODc0MjcsIC0xMjIuNDQ1MDg2NywgMC41MjVdLCBbMzcuNzc4NzQyNywgLTEyMi40NDIxODI0MDAwMDAwMSwgMC41ODc1XSwgWzM3Ljc3ODc0MjcsIC0xMjIuNDM5Mjc4MSwgMC41Mzc1XSwgWzM3Ljc3ODc0MjcsIC0xMjIuNDM2MzczOCwgMC40MjVdLCBbMzcuNzc4NzQyNywgLTEyMi40MzM0Njk1LCAwLjUxMjVdLCBbMzcuNzc4NzQyNywgLTEyMi40MzA1NjUyLCAwLjYxMjVdLCBbMzcuNzc4NzQyNywgLTEyMi40Mjc2NjA5LCAwLjYxMjVdLCBbMzcuNzc4NzQyNywgLTEyMi40MjQ3NTY2LCAwLjU3NV0sIFszNy43Nzg3NDI3LCAtMTIyLjQyMTg1MjMsIDAuNTEyNV0sIFszNy43Nzg3NDI3LCAtMTIyLjQxODk0OCwgMC45Mzc1XSwgWzM3Ljc3ODc0MjcsIC0xMjIuNDE2MDQzNywgMC45NjI1XSwgWzM3Ljc3ODc0MjcsIC0xMjIuNDEzMTM5NCwgMC45NV0sIFszNy43Nzg3NDI3LCAtMTIyLjQxMDIzNTEsIDAuOTVdLCBbMzcuNzc4NzQyNywgLTEyMi40MDczMzA4LCAwLjgxMjVdLCBbMzcuNzc4NzQyNywgLTEyMi40MDQ0MjY1LCAwLjc4NzVdLCBbMzcuNzc4NzQyNywgLTEyMi40MDE1MjIyLCAwLjc4NzVdLCBbMzcuNzc4NzQyNywgLTEyMi4zOTg2MTc5LCAwLjg2MjVdLCBbMzcuNzc4NzQyNywgLTEyMi4zOTU3MTM2LCAwLjk4NzVdLCBbMzcuNzc4NzQyNywgLTEyMi4zOTI4MDkzLCAwLjk4NzVdLCBbMzcuNzgwNTE3OCwgLTEyMi40NzcwMzQsIDAuMDI1XSwgWzM3Ljc4MDUxNzgsIC0xMjIuNDc0MTI5NywgMC4wXSwgWzM3Ljc4MDUxNzgsIC0xMjIuNDcxMjI1NDAwMDAwMDEsIDAuMDEyNV0sIFszNy43ODA1MTc4LCAtMTIyLjQ2ODMyMTEsIDAuMDg3NV0sIFszNy43ODA1MTc4LCAtMTIyLjQ2NTQxNjgsIDAuMTI1XSwgWzM3Ljc4MDUxNzgsIC0xMjIuNDYyNTEyNSwgMC4xMTI1XSwgWzM3Ljc4MDUxNzgsIC0xMjIuNDU5NjA4MiwgMC4wNjI1XSwgWzM3Ljc4MDUxNzgsIC0xMjIuNDU2NzAzOTAwMDAwMDEsIDAuMDYyNV0sIFszNy43ODA1MTc4LCAtMTIyLjQ1Mzc5OTYsIDAuMV0sIFszNy43ODA1MTc4LCAtMTIyLjQ1MDg5NTMsIDAuMl0sIFszNy43ODA1MTc4LCAtMTIyLjQ0Nzk5MSwgMC4yODc1XSwgWzM3Ljc4MDUxNzgsIC0xMjIuNDQ1MDg2NywgMC4zODc1XSwgWzM3Ljc4MDUxNzgsIC0xMjIuNDQyMTgyNDAwMDAwMDEsIDAuNF0sIFszNy43ODA1MTc4LCAtMTIyLjQzOTI3ODEsIDAuMjI1XSwgWzM3Ljc4MDUxNzgsIC0xMjIuNDM2MzczOCwgMC4yMzc1XSwgWzM3Ljc4MDUxNzgsIC0xMjIuNDMzNDY5NSwgMC4zODc1XSwgWzM3Ljc4MDUxNzgsIC0xMjIuNDMwNTY1MiwgMC41ODc1XSwgWzM3Ljc4MDUxNzgsIC0xMjIuNDI3NjYwOSwgMC42NjI1XSwgWzM3Ljc4MDUxNzgsIC0xMjIuNDI0NzU2NiwgMC41NzVdLCBbMzcuNzgwNTE3OCwgLTEyMi40MjE4NTIzLCAwLjUyNV0sIFszNy43ODA1MTc4LCAtMTIyLjQxODk0OCwgMC43MjVdLCBbMzcuNzgwNTE3OCwgLTEyMi40MTYwNDM3LCAwLjcyNV0sIFszNy43ODA1MTc4LCAtMTIyLjQxMzEzOTQsIDAuODg3NV0sIFszNy43ODA1MTc4LCAtMTIyLjQxMDIzNTEsIDAuOTM3NV0sIFszNy43ODA1MTc4LCAtMTIyLjQwNzMzMDgsIDAuODc1XSwgWzM3Ljc4MDUxNzgsIC0xMjIuNDA0NDI2NSwgMC44Mzc1XSwgWzM3Ljc4MDUxNzgsIC0xMjIuNDAxNTIyMiwgMC44NzVdLCBbMzcuNzgwNTE3OCwgLTEyMi4zOTg2MTc5LCAwLjgxMjVdLCBbMzcuNzgwNTE3OCwgLTEyMi4zOTU3MTM2LCAwLjldLCBbMzcuNzgwNTE3OCwgLTEyMi4zOTI4MDkzLCAwLjkzNzVdLCBbMzcuNzgyMjkyOSwgLTEyMi40NzcwMzQsIDAuMDI1XSwgWzM3Ljc4MjI5MjksIC0xMjIuNDc0MTI5NywgMC4wMTI1XSwgWzM3Ljc4MjI5MjksIC0xMjIuNDcxMjI1NDAwMDAwMDEsIDAuMDI1XSwgWzM3Ljc4MjI5MjksIC0xMjIuNDY4MzIxMSwgMC4wNjI1XSwgWzM3Ljc4MjI5MjksIC0xMjIuNDY1NDE2OCwgMC4xMjVdLCBbMzcuNzgyMjkyOSwgLTEyMi40NjI1MTI1LCAwLjE2MjVdLCBbMzcuNzgyMjkyOSwgLTEyMi40NTk2MDgyLCAwLjA3NV0sIFszNy43ODIyOTI5LCAtMTIyLjQ1NjcwMzkwMDAwMDAxLCAwLjA2MjVdLCBbMzcuNzgyMjkyOSwgLTEyMi40NTM3OTk2LCAwLjEzNzVdLCBbMzcuNzgyMjkyOSwgLTEyMi40NTA4OTUzLCAwLjE3NV0sIFszNy43ODIyOTI5LCAtMTIyLjQ0Nzk5MSwgMC4zNV0sIFszNy43ODIyOTI5LCAtMTIyLjQ0NTA4NjcsIDAuMzM3NV0sIFszNy43ODIyOTI5LCAtMTIyLjQ0MjE4MjQwMDAwMDAxLCAwLjI4NzVdLCBbMzcuNzgyMjkyOSwgLTEyMi40MzkyNzgxLCAwLjIxMjVdLCBbMzcuNzgyMjkyOSwgLTEyMi40MzYzNzM4LCAwLjE4NzVdLCBbMzcuNzgyMjkyOSwgLTEyMi40MzM0Njk1LCAwLjQyNV0sIFszNy43ODIyOTI5LCAtMTIyLjQzMDU2NTIsIDAuNTg3NV0sIFszNy43ODIyOTI5LCAtMTIyLjQyNzY2MDksIDAuNjEyNV0sIFszNy43ODIyOTI5LCAtMTIyLjQyNDc1NjYsIDAuNTg3NV0sIFszNy43ODIyOTI5LCAtMTIyLjQyMTg1MjMsIDAuNTYyNV0sIFszNy43ODIyOTI5LCAtMTIyLjQxODk0OCwgMC42XSwgWzM3Ljc4MjI5MjksIC0xMjIuNDE2MDQzNywgMC41NV0sIFszNy43ODIyOTI5LCAtMTIyLjQxMzEzOTQsIDAuNzg3NV0sIFszNy43ODIyOTI5LCAtMTIyLjQxMDIzNTEsIDAuOTM3NV0sIFszNy43ODIyOTI5LCAtMTIyLjQwNzMzMDgsIDAuNTEyNV0sIFszNy43ODIyOTI5LCAtMTIyLjQwNDQyNjUsIDAuOTI1XSwgWzM3Ljc4MjI5MjksIC0xMjIuNDAxNTIyMiwgMC44NjI1XSwgWzM3Ljc4MjI5MjksIC0xMjIuMzk4NjE3OSwgMC44Mzc1XSwgWzM3Ljc4MjI5MjksIC0xMjIuMzk1NzEzNiwgMC44ODc1XSwgWzM3Ljc4MjI5MjksIC0xMjIuMzkyODA5MywgMC45XSwgWzM3Ljc4NDA2OCwgLTEyMi40NzcwMzQsIDAuMDM3NV0sIFszNy43ODQwNjgsIC0xMjIuNDc0MTI5NywgMC4wMjVdLCBbMzcuNzg0MDY4LCAtMTIyLjQ3MTIyNTQwMDAwMDAxLCAwLjAzNzVdLCBbMzcuNzg0MDY4LCAtMTIyLjQ2ODMyMTEsIDAuMDYyNV0sIFszNy43ODQwNjgsIC0xMjIuNDY1NDE2OCwgMC4xMTI1XSwgWzM3Ljc4NDA2OCwgLTEyMi40NjI1MTI1LCAwLjE3NV0sIFszNy43ODQwNjgsIC0xMjIuNDU5NjA4MiwgMC4wNV0sIFszNy43ODQwNjgsIC0xMjIuNDU2NzAzOTAwMDAwMDEsIDAuMDVdLCBbMzcuNzg0MDY4LCAtMTIyLjQ1Mzc5OTYsIDAuMTYyNV0sIFszNy43ODQwNjgsIC0xMjIuNDUwODk1MywgMC4xNzVdLCBbMzcuNzg0MDY4LCAtMTIyLjQ0Nzk5MSwgMC4zMTI1XSwgWzM3Ljc4NDA2OCwgLTEyMi40NDUwODY3LCAwLjMxMjVdLCBbMzcuNzg0MDY4LCAtMTIyLjQ0MjE4MjQwMDAwMDAxLCAwLjI2MjVdLCBbMzcuNzg0MDY4LCAtMTIyLjQzOTI3ODEsIDAuMjI1XSwgWzM3Ljc4NDA2OCwgLTEyMi40MzYzNzM4LCAwLjIzNzVdLCBbMzcuNzg0MDY4LCAtMTIyLjQzMzQ2OTUsIDAuNTEyNV0sIFszNy43ODQwNjgsIC0xMjIuNDMwNTY1MiwgMC42Mzc1XSwgWzM3Ljc4NDA2OCwgLTEyMi40Mjc2NjA5LCAwLjZdLCBbMzcuNzg0MDY4LCAtMTIyLjQyNDc1NjYsIDAuNjg3NV0sIFszNy43ODQwNjgsIC0xMjIuNDIxODUyMywgMC42NV0sIFszNy43ODQwNjgsIC0xMjIuNDE4OTQ4LCAwLjYzNzVdLCBbMzcuNzg0MDY4LCAtMTIyLjQxNjA0MzcsIDAuNTI1XSwgWzM3Ljc4NDA2OCwgLTEyMi40MTMxMzk0LCAwLjUyNV0sIFszNy43ODQwNjgsIC0xMjIuNDEwMjM1MSwgMC45Mzc1XSwgWzM3Ljc4NDA2OCwgLTEyMi40MDczMzA4LCAwLjk3NV0sIFszNy43ODQwNjgsIC0xMjIuNDA0NDI2NSwgMC45NV0sIFszNy43ODQwNjgsIC0xMjIuNDAxNTIyMiwgMC44MTI1XSwgWzM3Ljc4NDA2OCwgLTEyMi4zOTg2MTc5LCAwLjc3NV0sIFszNy43ODQwNjgsIC0xMjIuMzk1NzEzNiwgMC44ODc1XSwgWzM3Ljc4NDA2OCwgLTEyMi4zOTI4MDkzLCAwLjg3NV0sIFszNy43ODU4NDMxLCAtMTIyLjQ3NzAzNCwgMC4wNV0sIFszNy43ODU4NDMxLCAtMTIyLjQ3NDEyOTcsIDAuMDM3NV0sIFszNy43ODU4NDMxLCAtMTIyLjQ3MTIyNTQwMDAwMDAxLCAwLjA1XSwgWzM3Ljc4NTg0MzEsIC0xMjIuNDY4MzIxMSwgMC4wNzVdLCBbMzcuNzg1ODQzMSwgLTEyMi40NjU0MTY4LCAwLjExMjVdLCBbMzcuNzg1ODQzMSwgLTEyMi40NjI1MTI1LCAwLjEyNV0sIFszNy43ODU4NDMxLCAtMTIyLjQ1OTYwODIsIDAuMDM3NV0sIFszNy43ODU4NDMxLCAtMTIyLjQ1NjcwMzkwMDAwMDAxLCAwLjA1XSwgWzM3Ljc4NTg0MzEsIC0xMjIuNDUzNzk5NiwgMC4xNjI1XSwgWzM3Ljc4NTg0MzEsIC0xMjIuNDUwODk1MywgMC4xNzVdLCBbMzcuNzg1ODQzMSwgLTEyMi40NDc5OTEsIDAuMzEyNV0sIFszNy43ODU4NDMxLCAtMTIyLjQ0NTA4NjcsIDAuM10sIFszNy43ODU4NDMxLCAtMTIyLjQ0MjE4MjQwMDAwMDAxLCAwLjIyNV0sIFszNy43ODU4NDMxLCAtMTIyLjQzOTI3ODEsIDAuMjI1XSwgWzM3Ljc4NTg0MzEsIC0xMjIuNDM2MzczOCwgMC4yNV0sIFszNy43ODU4NDMxLCAtMTIyLjQzMzQ2OTUsIDAuNTEyNV0sIFszNy43ODU4NDMxLCAtMTIyLjQzMDU2NTIsIDAuNTc1XSwgWzM3Ljc4NTg0MzEsIC0xMjIuNDI3NjYwOSwgMC42XSwgWzM3Ljc4NTg0MzEsIC0xMjIuNDI0NzU2NiwgMC43MTI1XSwgWzM3Ljc4NTg0MzEsIC0xMjIuNDIxODUyMywgMC43MTI1XSwgWzM3Ljc4NTg0MzEsIC0xMjIuNDE4OTQ4LCAwLjcyNV0sIFszNy43ODU4NDMxLCAtMTIyLjQxNjA0MzcsIDAuNjc1XSwgWzM3Ljc4NTg0MzEsIC0xMjIuNDEzMTM5NCwgMC42MTI1XSwgWzM3Ljc4NTg0MzEsIC0xMjIuNDEwMjM1MSwgMC44NjI1XSwgWzM3Ljc4NTg0MzEsIC0xMjIuNDA3MzMwOCwgMC45NjI1XSwgWzM3Ljc4NTg0MzEsIC0xMjIuNDA0NDI2NSwgMS4wXSwgWzM3Ljc4NTg0MzEsIC0xMjIuNDAxNTIyMiwgMC45MTI1XSwgWzM3Ljc4NTg0MzEsIC0xMjIuMzk4NjE3OSwgMC44ODc1XSwgWzM3Ljc4NTg0MzEsIC0xMjIuMzk1NzEzNiwgMC44ODc1XSwgWzM3Ljc4NTg0MzEsIC0xMjIuMzkyODA5MywgMC45XSwgWzM3Ljc4NzYxODIsIC0xMjIuNDc3MDM0LCAwLjA1XSwgWzM3Ljc4NzYxODIsIC0xMjIuNDc0MTI5NywgMC4wNV0sIFszNy43ODc2MTgyLCAtMTIyLjQ3MTIyNTQwMDAwMDAxLCAwLjA1XSwgWzM3Ljc4NzYxODIsIC0xMjIuNDY4MzIxMSwgMC4wNzVdLCBbMzcuNzg3NjE4MiwgLTEyMi40NjU0MTY4LCAwLjExMjVdLCBbMzcuNzg3NjE4MiwgLTEyMi40NjI1MTI1LCAwLjEyNV0sIFszNy43ODc2MTgyLCAtMTIyLjQ1OTYwODIsIDAuMDM3NV0sIFszNy43ODc2MTgyLCAtMTIyLjQ1NjcwMzkwMDAwMDAxLCAwLjA1XSwgWzM3Ljc4NzYxODIsIC0xMjIuNDUzNzk5NiwgMC4xNjI1XSwgWzM3Ljc4NzYxODIsIC0xMjIuNDUwODk1MywgMC4xNzVdLCBbMzcuNzg3NjE4MiwgLTEyMi40NDc5OTEsIDAuMzEyNV0sIFszNy43ODc2MTgyLCAtMTIyLjQ0NTA4NjcsIDAuM10sIFszNy43ODc2MTgyLCAtMTIyLjQ0MjE4MjQwMDAwMDAxLCAwLjIyNV0sIFszNy43ODc2MTgyLCAtMTIyLjQzOTI3ODEsIDAuMjI1XSwgWzM3Ljc4NzYxODIsIC0xMjIuNDM2MzczOCwgMC4yNV0sIFszNy43ODc2MTgyLCAtMTIyLjQzMzQ2OTUsIDAuNDVdLCBbMzcuNzg3NjE4MiwgLTEyMi40MzA1NjUyLCAwLjUzNzVdLCBbMzcuNzg3NjE4MiwgLTEyMi40Mjc2NjA5LCAwLjcyNV0sIFszNy43ODc2MTgyLCAtMTIyLjQyNDc1NjYsIDAuNzM3NV0sIFszNy43ODc2MTgyLCAtMTIyLjQyMTg1MjMsIDAuOF0sIFszNy43ODc2MTgyLCAtMTIyLjQxODk0OCwgMC43NzVdLCBbMzcuNzg3NjE4MiwgLTEyMi40MTYwNDM3LCAwLjc3NV0sIFszNy43ODc2MTgyLCAtMTIyLjQxMzEzOTQsIDAuNzVdLCBbMzcuNzg3NjE4MiwgLTEyMi40MTAyMzUxLCAwLjldLCBbMzcuNzg3NjE4MiwgLTEyMi40MDczMzA4LCAwLjk2MjVdLCBbMzcuNzg3NjE4MiwgLTEyMi40MDQ0MjY1LCAwLjk4NzVdLCBbMzcuNzg3NjE4MiwgLTEyMi40MDE1MjIyLCAwLjk3NV0sIFszNy43ODc2MTgyLCAtMTIyLjM5ODYxNzksIDAuOTVdLCBbMzcuNzg3NjE4MiwgLTEyMi4zOTU3MTM2LCAwLjk1XSwgWzM3Ljc4NzYxODIsIC0xMjIuMzkyODA5MywgMC45NjI1XSwgWzM3Ljc4OTM5MzMsIC0xMjIuNDc3MDM0LCAwLjA2MjVdLCBbMzcuNzg5MzkzMywgLTEyMi40NzQxMjk3LCAwLjA2MjVdLCBbMzcuNzg5MzkzMywgLTEyMi40NzEyMjU0MDAwMDAwMSwgMC4wNjI1XSwgWzM3Ljc4OTM5MzMsIC0xMjIuNDY4MzIxMSwgMC4wODc1XSwgWzM3Ljc4OTM5MzMsIC0xMjIuNDY1NDE2OCwgMC4xMTI1XSwgWzM3Ljc4OTM5MzMsIC0xMjIuNDYyNTEyNSwgMC4wMjVdLCBbMzcuNzg5MzkzMywgLTEyMi40NTk2MDgyLCAwLjAzNzVdLCBbMzcuNzg5MzkzMywgLTEyMi40NTY3MDM5MDAwMDAwMSwgMC4wNV0sIFszNy43ODkzOTMzLCAtMTIyLjQ1Mzc5OTYsIDAuMTc1XSwgWzM3Ljc4OTM5MzMsIC0xMjIuNDUwODk1MywgMC4xODc1XSwgWzM3Ljc4OTM5MzMsIC0xMjIuNDQ3OTkxLCAwLjIxMjVdLCBbMzcuNzg5MzkzMywgLTEyMi40NDUwODY3LCAwLjJdLCBbMzcuNzg5MzkzMywgLTEyMi40NDIxODI0MDAwMDAwMSwgMC4yMjVdLCBbMzcuNzg5MzkzMywgLTEyMi40MzkyNzgxLCAwLjIyNV0sIFszNy43ODkzOTMzLCAtMTIyLjQzNjM3MzgsIDAuMjM3NV0sIFszNy43ODkzOTMzLCAtMTIyLjQzMzQ2OTUsIDAuNDI1XSwgWzM3Ljc4OTM5MzMsIC0xMjIuNDMwNTY1MiwgMC41MTI1XSwgWzM3Ljc4OTM5MzMsIC0xMjIuNDI3NjYwOSwgMC43NV0sIFszNy43ODkzOTMzLCAtMTIyLjQyNDc1NjYsIDAuOF0sIFszNy43ODkzOTMzLCAtMTIyLjQyMTg1MjMsIDAuODEyNV0sIFszNy43ODkzOTMzLCAtMTIyLjQxODk0OCwgMC44XSwgWzM3Ljc4OTM5MzMsIC0xMjIuNDE2MDQzNywgMC43NzVdLCBbMzcuNzg5MzkzMywgLTEyMi40MTMxMzk0LCAwLjczNzVdLCBbMzcuNzg5MzkzMywgLTEyMi40MTAyMzUxLCAwLjldLCBbMzcuNzg5MzkzMywgLTEyMi40MDczMzA4LCAwLjk1XSwgWzM3Ljc4OTM5MzMsIC0xMjIuNDA0NDI2NSwgMC45ODc1XSwgWzM3Ljc4OTM5MzMsIC0xMjIuNDAxNTIyMiwgMS4wXSwgWzM3Ljc4OTM5MzMsIC0xMjIuMzk4NjE3OSwgMC45NzVdLCBbMzcuNzg5MzkzMywgLTEyMi4zOTU3MTM2LCAwLjk4NzVdLCBbMzcuNzg5MzkzMywgLTEyMi4zOTI4MDkzLCAwLjk3NV0sIFszNy43OTExNjg0MDAwMDAwMDQsIC0xMjIuNDc3MDM0LCAwLjA2MjVdLCBbMzcuNzkxMTY4NDAwMDAwMDA0LCAtMTIyLjQ3NDEyOTcsIDAuMDc1XSwgWzM3Ljc5MTE2ODQwMDAwMDAwNCwgLTEyMi40NzEyMjU0MDAwMDAwMSwgMC4wNzVdLCBbMzcuNzkxMTY4NDAwMDAwMDA0LCAtMTIyLjQ2ODMyMTEsIDAuMDg3NV0sIFszNy43OTExNjg0MDAwMDAwMDQsIC0xMjIuNDY1NDE2OCwgMC4xMTI1XSwgWzM3Ljc5MTE2ODQwMDAwMDAwNCwgLTEyMi40NjI1MTI1LCAwLjAxMjVdLCBbMzcuNzkxMTY4NDAwMDAwMDA0LCAtMTIyLjQ1OTYwODIsIDAuMDI1XSwgWzM3Ljc5MTE2ODQwMDAwMDAwNCwgLTEyMi40NTY3MDM5MDAwMDAwMSwgMC4wODc1XSwgWzM3Ljc5MTE2ODQwMDAwMDAwNCwgLTEyMi40NTM3OTk2LCAwLjExMjVdLCBbMzcuNzkxMTY4NDAwMDAwMDA0LCAtMTIyLjQ1MDg5NTMsIDAuMTg3NV0sIFszNy43OTExNjg0MDAwMDAwMDQsIC0xMjIuNDQ3OTkxLCAwLjIxMjVdLCBbMzcuNzkxMTY4NDAwMDAwMDA0LCAtMTIyLjQ0NTA4NjcsIDAuMjc1XSwgWzM3Ljc5MTE2ODQwMDAwMDAwNCwgLTEyMi40NDIxODI0MDAwMDAwMSwgMC4yMjVdLCBbMzcuNzkxMTY4NDAwMDAwMDA0LCAtMTIyLjQzOTI3ODEsIDAuMjc1XSwgWzM3Ljc5MTE2ODQwMDAwMDAwNCwgLTEyMi40MzYzNzM4LCAwLjI1XSwgWzM3Ljc5MTE2ODQwMDAwMDAwNCwgLTEyMi40MzM0Njk1LCAwLjVdLCBbMzcuNzkxMTY4NDAwMDAwMDA0LCAtMTIyLjQzMDU2NTIsIDAuNjI1XSwgWzM3Ljc5MTE2ODQwMDAwMDAwNCwgLTEyMi40Mjc2NjA5LCAwLjgxMjVdLCBbMzcuNzkxMTY4NDAwMDAwMDA0LCAtMTIyLjQyNDc1NjYsIDAuODEyNV0sIFszNy43OTExNjg0MDAwMDAwMDQsIC0xMjIuNDIxODUyMywgMC44MjVdLCBbMzcuNzkxMTY4NDAwMDAwMDA0LCAtMTIyLjQxODk0OCwgMC44XSwgWzM3Ljc5MTE2ODQwMDAwMDAwNCwgLTEyMi40MTYwNDM3LCAwLjc2MjVdLCBbMzcuNzkxMTY4NDAwMDAwMDA0LCAtMTIyLjQxMzEzOTQsIDAuODEyNV0sIFszNy43OTExNjg0MDAwMDAwMDQsIC0xMjIuNDEwMjM1MSwgMC43NjI1XSwgWzM3Ljc5MTE2ODQwMDAwMDAwNCwgLTEyMi40MDczMzA4LCAwLjldLCBbMzcuNzkxMTY4NDAwMDAwMDA0LCAtMTIyLjQwNDQyNjUsIDAuOTYyNV0sIFszNy43OTExNjg0MDAwMDAwMDQsIC0xMjIuNDAxNTIyMiwgMC45NzVdLCBbMzcuNzkxMTY4NDAwMDAwMDA0LCAtMTIyLjM5ODYxNzksIDAuOTYyNV0sIFszNy43OTExNjg0MDAwMDAwMDQsIC0xMjIuMzk1NzEzNiwgMS4wXSwgWzM3Ljc5MTE2ODQwMDAwMDAwNCwgLTEyMi4zOTI4MDkzLCAwLjk4NzVdLCBbMzcuNzkyOTQzNSwgLTEyMi40NzcwMzQsIDAuMDc1XSwgWzM3Ljc5Mjk0MzUsIC0xMjIuNDc0MTI5NywgMC4wNzVdLCBbMzcuNzkyOTQzNSwgLTEyMi40NzEyMjU0MDAwMDAwMSwgMC4wNzVdLCBbMzcuNzkyOTQzNSwgLTEyMi40NjgzMjExLCAwLjFdLCBbMzcuNzkyOTQzNSwgLTEyMi40NjU0MTY4LCAwLjExMjVdLCBbMzcuNzkyOTQzNSwgLTEyMi40NjI1MTI1LCAwLjAxMjVdLCBbMzcuNzkyOTQzNSwgLTEyMi40NTk2MDgyLCAwLjAyNV0sIFszNy43OTI5NDM1LCAtMTIyLjQ1NjcwMzkwMDAwMDAxLCAwLjA4NzVdLCBbMzcuNzkyOTQzNSwgLTEyMi40NTM3OTk2LCAwLjExMjVdLCBbMzcuNzkyOTQzNSwgLTEyMi40NTA4OTUzLCAwLjIxMjVdLCBbMzcuNzkyOTQzNSwgLTEyMi40NDc5OTEsIDAuMjc1XSwgWzM3Ljc5Mjk0MzUsIC0xMjIuNDQ1MDg2NywgMC4yNzVdLCBbMzcuNzkyOTQzNSwgLTEyMi40NDIxODI0MDAwMDAwMSwgMC4yNzVdLCBbMzcuNzkyOTQzNSwgLTEyMi40MzkyNzgxLCAwLjMxMjVdLCBbMzcuNzkyOTQzNSwgLTEyMi40MzYzNzM4LCAwLjMxMjVdLCBbMzcuNzkyOTQzNSwgLTEyMi40MzM0Njk1LCAwLjUxMjVdLCBbMzcuNzkyOTQzNSwgLTEyMi40MzA1NjUyLCAwLjYxMjVdLCBbMzcuNzkyOTQzNSwgLTEyMi40Mjc2NjA5LCAwLjY2MjVdLCBbMzcuNzkyOTQzNSwgLTEyMi40MjQ3NTY2LCAwLjhdLCBbMzcuNzkyOTQzNSwgLTEyMi40MjE4NTIzLCAwLjgzNzVdLCBbMzcuNzkyOTQzNSwgLTEyMi40MTg5NDgsIDAuNzg3NV0sIFszNy43OTI5NDM1LCAtMTIyLjQxNjA0MzcsIDAuNzVdLCBbMzcuNzkyOTQzNSwgLTEyMi40MTMxMzk0LCAwLjc4NzVdLCBbMzcuNzkyOTQzNSwgLTEyMi40MTAyMzUxLCAwLjg1XSwgWzM3Ljc5Mjk0MzUsIC0xMjIuNDA3MzMwOCwgMC44Mzc1XSwgWzM3Ljc5Mjk0MzUsIC0xMjIuNDA0NDI2NSwgMC45Mzc1XSwgWzM3Ljc5Mjk0MzUsIC0xMjIuNDAxNTIyMiwgMC45NV0sIFszNy43OTI5NDM1LCAtMTIyLjM5ODYxNzksIDAuOTc1XSwgWzM3Ljc5Mjk0MzUsIC0xMjIuMzk1NzEzNiwgMS4wXSwgWzM3Ljc5Mjk0MzUsIC0xMjIuMzkyODA5MywgMS4wXSwgWzM3Ljc5NDcxODYsIC0xMjIuNDc3MDM0LCAwLjA3NV0sIFszNy43OTQ3MTg2LCAtMTIyLjQ3NDEyOTcsIDAuMDc1XSwgWzM3Ljc5NDcxODYsIC0xMjIuNDcxMjI1NDAwMDAwMDEsIDAuMDg3NV0sIFszNy43OTQ3MTg2LCAtMTIyLjQ2ODMyMTEsIDAuMV0sIFszNy43OTQ3MTg2LCAtMTIyLjQ2NTQxNjgsIDAuMTI1XSwgWzM3Ljc5NDcxODYsIC0xMjIuNDYyNTEyNSwgMC4wMTI1XSwgWzM3Ljc5NDcxODYsIC0xMjIuNDU5NjA4MiwgMC4wMTI1XSwgWzM3Ljc5NDcxODYsIC0xMjIuNDU2NzAzOTAwMDAwMDEsIDAuMDg3NV0sIFszNy43OTQ3MTg2LCAtMTIyLjQ1Mzc5OTYsIDAuMTg3NV0sIFszNy43OTQ3MTg2LCAtMTIyLjQ1MDg5NTMsIDAuMjYyNV0sIFszNy43OTQ3MTg2LCAtMTIyLjQ0Nzk5MSwgMC4yNzVdLCBbMzcuNzk0NzE4NiwgLTEyMi40NDUwODY3LCAwLjI3NV0sIFszNy43OTQ3MTg2LCAtMTIyLjQ0MjE4MjQwMDAwMDAxLCAwLjI3NV0sIFszNy43OTQ3MTg2LCAtMTIyLjQzOTI3ODEsIDAuMzVdLCBbMzcuNzk0NzE4NiwgLTEyMi40MzYzNzM4LCAwLjMyNV0sIFszNy43OTQ3MTg2LCAtMTIyLjQzMzQ2OTUsIDAuNF0sIFszNy43OTQ3MTg2LCAtMTIyLjQzMDU2NTIsIDAuNTVdLCBbMzcuNzk0NzE4NiwgLTEyMi40Mjc2NjA5LCAwLjY1XSwgWzM3Ljc5NDcxODYsIC0xMjIuNDI0NzU2NiwgMC43NjI1XSwgWzM3Ljc5NDcxODYsIC0xMjIuNDIxODUyMywgMC44Mzc1XSwgWzM3Ljc5NDcxODYsIC0xMjIuNDE4OTQ4LCAwLjc3NV0sIFszNy43OTQ3MTg2LCAtMTIyLjQxNjA0MzcsIDAuNzI1XSwgWzM3Ljc5NDcxODYsIC0xMjIuNDEzMTM5NCwgMC44XSwgWzM3Ljc5NDcxODYsIC0xMjIuNDEwMjM1MSwgMC43ODc1XSwgWzM3Ljc5NDcxODYsIC0xMjIuNDA3MzMwOCwgMC44MjVdLCBbMzcuNzk0NzE4NiwgLTEyMi40MDQ0MjY1LCAwLjc1XSwgWzM3Ljc5NDcxODYsIC0xMjIuNDAxNTIyMiwgMC44NjI1XSwgWzM3Ljc5NDcxODYsIC0xMjIuMzk4NjE3OSwgMC45MjVdLCBbMzcuNzk0NzE4NiwgLTEyMi4zOTU3MTM2LCAxLjBdLCBbMzcuNzk0NzE4NiwgLTEyMi4zOTI4MDkzLCAxLjBdLCBbMzcuNzk2NDkzNywgLTEyMi40NzcwMzQsIDAuMDg3NV0sIFszNy43OTY0OTM3LCAtMTIyLjQ3NDEyOTcsIDAuMDg3NV0sIFszNy43OTY0OTM3LCAtMTIyLjQ3MTIyNTQwMDAwMDAxLCAwLjFdLCBbMzcuNzk2NDkzNywgLTEyMi40NjgzMjExLCAwLjFdLCBbMzcuNzk2NDkzNywgLTEyMi40NjU0MTY4LCAwLjEyNV0sIFszNy43OTY0OTM3LCAtMTIyLjQ2MjUxMjUsIDAuMDEyNV0sIFszNy43OTY0OTM3LCAtMTIyLjQ1OTYwODIsIDAuMDEyNV0sIFszNy43OTY0OTM3LCAtMTIyLjQ1NjcwMzkwMDAwMDAxLCAwLjFdLCBbMzcuNzk2NDkzNywgLTEyMi40NTM3OTk2LCAwLjI1XSwgWzM3Ljc5NjQ5MzcsIC0xMjIuNDUwODk1MywgMC4yNjI1XSwgWzM3Ljc5NjQ5MzcsIC0xMjIuNDQ3OTkxLCAwLjM2MjVdLCBbMzcuNzk2NDkzNywgLTEyMi40NDUwODY3LCAwLjM3NV0sIFszNy43OTY0OTM3LCAtMTIyLjQ0MjE4MjQwMDAwMDAxLCAwLjM3NV0sIFszNy43OTY0OTM3LCAtMTIyLjQzOTI3ODEsIDAuMzYyNV0sIFszNy43OTY0OTM3LCAtMTIyLjQzNjM3MzgsIDAuMzI1XSwgWzM3Ljc5NjQ5MzcsIC0xMjIuNDMzNDY5NSwgMC4zODc1XSwgWzM3Ljc5NjQ5MzcsIC0xMjIuNDMwNTY1MiwgMC40MTI1XSwgWzM3Ljc5NjQ5MzcsIC0xMjIuNDI3NjYwOSwgMC42XSwgWzM3Ljc5NjQ5MzcsIC0xMjIuNDI0NzU2NiwgMC43NV0sIFszNy43OTY0OTM3LCAtMTIyLjQyMTg1MjMsIDAuNzYyNV0sIFszNy43OTY0OTM3LCAtMTIyLjQxODk0OCwgMC43XSwgWzM3Ljc5NjQ5MzcsIC0xMjIuNDE2MDQzNywgMC42NzVdLCBbMzcuNzk2NDkzNywgLTEyMi40MTMxMzk0LCAwLjcxMjVdLCBbMzcuNzk2NDkzNywgLTEyMi40MTAyMzUxLCAwLjczNzVdLCBbMzcuNzk2NDkzNywgLTEyMi40MDczMzA4LCAwLjgyNV0sIFszNy43OTY0OTM3LCAtMTIyLjQwNDQyNjUsIDAuNzc1XSwgWzM3Ljc5NjQ5MzcsIC0xMjIuNDAxNTIyMiwgMC44NjI1XSwgWzM3Ljc5NjQ5MzcsIC0xMjIuMzk4NjE3OSwgMC44NV0sIFszNy43OTY0OTM3LCAtMTIyLjM5NTcxMzYsIDAuOTc1XSwgWzM3Ljc5NjQ5MzcsIC0xMjIuMzkyODA5MywgMS4wXSwgWzM3Ljc5ODI2ODgsIC0xMjIuNDc3MDM0LCAwLjA4NzVdLCBbMzcuNzk4MjY4OCwgLTEyMi40NzQxMjk3LCAwLjA4NzVdLCBbMzcuNzk4MjY4OCwgLTEyMi40NzEyMjU0MDAwMDAwMSwgMC4xXSwgWzM3Ljc5ODI2ODgsIC0xMjIuNDY4MzIxMSwgMC4xMTI1XSwgWzM3Ljc5ODI2ODgsIC0xMjIuNDY1NDE2OCwgMC4xMjVdLCBbMzcuNzk4MjY4OCwgLTEyMi40NjI1MTI1LCAwLjAxMjVdLCBbMzcuNzk4MjY4OCwgLTEyMi40NTk2MDgyLCAwLjAxMjVdLCBbMzcuNzk4MjY4OCwgLTEyMi40NTY3MDM5MDAwMDAwMSwgMC4xODc1XSwgWzM3Ljc5ODI2ODgsIC0xMjIuNDUzNzk5NiwgMC4yNV0sIFszNy43OTgyNjg4LCAtMTIyLjQ1MDg5NTMsIDAuMzc1XSwgWzM3Ljc5ODI2ODgsIC0xMjIuNDQ3OTkxLCAwLjM3NV0sIFszNy43OTgyNjg4LCAtMTIyLjQ0NTA4NjcsIDAuMzc1XSwgWzM3Ljc5ODI2ODgsIC0xMjIuNDQyMTgyNDAwMDAwMDEsIDAuMzg3NV0sIFszNy43OTgyNjg4LCAtMTIyLjQzOTI3ODEsIDAuMzc1XSwgWzM3Ljc5ODI2ODgsIC0xMjIuNDM2MzczOCwgMC4zODc1XSwgWzM3Ljc5ODI2ODgsIC0xMjIuNDMzNDY5NSwgMC4zXSwgWzM3Ljc5ODI2ODgsIC0xMjIuNDMwNTY1MiwgMC40MTI1XSwgWzM3Ljc5ODI2ODgsIC0xMjIuNDI3NjYwOSwgMC41ODc1XSwgWzM3Ljc5ODI2ODgsIC0xMjIuNDI0NzU2NiwgMC42MjVdLCBbMzcuNzk4MjY4OCwgLTEyMi40MjE4NTIzLCAwLjcxMjVdLCBbMzcuNzk4MjY4OCwgLTEyMi40MTg5NDgsIDAuN10sIFszNy43OTgyNjg4LCAtMTIyLjQxNjA0MzcsIDAuNjc1XSwgWzM3Ljc5ODI2ODgsIC0xMjIuNDEzMTM5NCwgMC43MTI1XSwgWzM3Ljc5ODI2ODgsIC0xMjIuNDEwMjM1MSwgMC43Mzc1XSwgWzM3Ljc5ODI2ODgsIC0xMjIuNDA3MzMwOCwgMC44NV0sIFszNy43OTgyNjg4LCAtMTIyLjQwNDQyNjUsIDAuODVdLCBbMzcuNzk4MjY4OCwgLTEyMi40MDE1MjIyLCAwLjg2MjVdLCBbMzcuNzk4MjY4OCwgLTEyMi4zOTg2MTc5LCAwLjg1XSwgWzM3Ljc5ODI2ODgsIC0xMjIuMzk1NzEzNiwgMC45NV0sIFszNy43OTgyNjg4LCAtMTIyLjM5MjgwOTMsIDAuOTg3NV0sIFszNy44MDAwNDM5LCAtMTIyLjQ3NzAzNCwgMC4xXSwgWzM3LjgwMDA0MzksIC0xMjIuNDc0MTI5NywgMC4xXSwgWzM3LjgwMDA0MzksIC0xMjIuNDcxMjI1NDAwMDAwMDEsIDAuMV0sIFszNy44MDAwNDM5LCAtMTIyLjQ2ODMyMTEsIDAuMTEyNV0sIFszNy44MDAwNDM5LCAtMTIyLjQ2NTQxNjgsIDAuMTI1XSwgWzM3LjgwMDA0MzksIC0xMjIuNDYyNTEyNSwgMC4wMTI1XSwgWzM3LjgwMDA0MzksIC0xMjIuNDU5NjA4MiwgMC4xODc1XSwgWzM3LjgwMDA0MzksIC0xMjIuNDU2NzAzOTAwMDAwMDEsIDAuMTg3NV0sIFszNy44MDAwNDM5LCAtMTIyLjQ1Mzc5OTYsIDAuM10sIFszNy44MDAwNDM5LCAtMTIyLjQ1MDg5NTMsIDAuMzc1XSwgWzM3LjgwMDA0MzksIC0xMjIuNDQ3OTkxLCAwLjM4NzVdLCBbMzcuODAwMDQzOSwgLTEyMi40NDUwODY3LCAwLjM4NzVdLCBbMzcuODAwMDQzOSwgLTEyMi40NDIxODI0MDAwMDAwMSwgMC4zODc1XSwgWzM3LjgwMDA0MzksIC0xMjIuNDM5Mjc4MSwgMC40MjVdLCBbMzcuODAwMDQzOSwgLTEyMi40MzYzNzM4LCAwLjRdLCBbMzcuODAwMDQzOSwgLTEyMi40MzM0Njk1LCAwLjMyNV0sIFszNy44MDAwNDM5LCAtMTIyLjQzMDU2NTIsIDAuNDI1XSwgWzM3LjgwMDA0MzksIC0xMjIuNDI3NjYwOSwgMC41NzVdLCBbMzcuODAwMDQzOSwgLTEyMi40MjQ3NTY2LCAwLjYxMjVdLCBbMzcuODAwMDQzOSwgLTEyMi40MjE4NTIzLCAwLjY3NV0sIFszNy44MDAwNDM5LCAtMTIyLjQxODk0OCwgMC42ODc1XSwgWzM3LjgwMDA0MzksIC0xMjIuNDE2MDQzNywgMC42ODc1XSwgWzM3LjgwMDA0MzksIC0xMjIuNDEzMTM5NCwgMC43MTI1XSwgWzM3LjgwMDA0MzksIC0xMjIuNDEwMjM1MSwgMC43Mzc1XSwgWzM3LjgwMDA0MzksIC0xMjIuNDA3MzMwOCwgMC45MjVdLCBbMzcuODAwMDQzOSwgLTEyMi40MDQ0MjY1LCAwLjkyNV0sIFszNy44MDAwNDM5LCAtMTIyLjQwMTUyMjIsIDAuODM3NV0sIFszNy44MDAwNDM5LCAtMTIyLjM5ODYxNzksIDAuODVdLCBbMzcuODAwMDQzOSwgLTEyMi4zOTU3MTM2LCAwLjk1XSwgWzM3LjgwMDA0MzksIC0xMjIuMzkyODA5MywgMC45ODc1XV0sCiAgICAgICAgICAgICAgICB7ImJsdXIiOiAxLCAibWF4IjogMSwgIm1heFpvb20iOiAxMywgIm1pbk9wYWNpdHkiOiAwLjUsICJyYWRpdXMiOiA1fQogICAgICAgICAgICApLmFkZFRvKG1hcF81ZGQxOGM1NjBlNWI0ZDIyYjUzNDg0ODA1NjdkNzk3OSk7CiAgICAgICAgCjwvc2NyaXB0Pg==\" style=\"position:absolute;width:100%;height:100%;left:0;top:0;border:none !important;\" allowfullscreen webkitallowfullscreen mozallowfullscreen></iframe></div></div>"
      ],
      "text/plain": [
       "<folium.folium.Map at 0x1a22ddda90>"
      ]
     },
     "execution_count": 312,
     "metadata": {},
     "output_type": "execute_result"
    }
   ],
   "source": [
    "## Define grid coordinate range\n",
    "coor_ll = np.array([37.748566, -122.477034]) #lower left coordinate\n",
    "coor_ur = np.array([37.801819, -122.389905]) #upper right coordiante\n",
    "grid_size = 30 #number of points on each side of the grid\n",
    "\n",
    "grid_lat, grid_long = np.mgrid[coor_ll[0]:coor_ur[0]:(coor_ur[0]-coor_ll[0])/grid_size, coor_ll[1]:coor_ur[1]:(coor_ur[1]-coor_ll[1])/grid_size] \n",
    "grid_lat = np.ndarray.flatten(grid_lat)\n",
    "grid_long = np.ndarray.flatten(grid_long)\n",
    "\n",
    "# Predicting Demand\n",
    "X = np.stack((grid_lat, grid_long), axis= -1)\n",
    "y_pred = np.transpose(neigh.predict(X))\n",
    "grid_data = np.stack((grid_lat, grid_long, y_pred), axis=-1)\n",
    "\n",
    "## Convert startig trip count to quantiles for visualization\n",
    "d = grid_data[:,2]\n",
    "qrange = np.arange(0,100,1.25)\n",
    "quantiles = np.percentile(d, qrange)\n",
    "grid_data[:,2] = np.searchsorted(quantiles, d)/len(qrange)\n",
    "\n",
    "# Visualization with map\n",
    "cor_ref_start = (coor_ll+coor_ur)/2\n",
    "m = folium.Map(cor_ref_start, zoom_start=13)\n",
    "\n",
    "# plot heatmap\n",
    "m.add_child(plugins.HeatMap(grid_data, max_zoom = 13, max_val=1, radius = 5, blur=1))\n",
    "m"
   ]
  },
  {
   "cell_type": "code",
   "execution_count": 118,
   "metadata": {},
   "outputs": [
    {
     "data": {
      "text/plain": [
       "[2]"
      ]
     },
     "execution_count": 118,
     "metadata": {},
     "output_type": "execute_result"
    }
   ],
   "source": [
    "a = [1, 2, 3]\n",
    "a[1:2]"
   ]
  },
  {
   "cell_type": "markdown",
   "metadata": {},
   "source": [
    "## Part 2: Station Optimization using Evolutionary Strategy"
   ]
  },
  {
   "cell_type": "code",
   "execution_count": 309,
   "metadata": {},
   "outputs": [],
   "source": [
    "def manhattan_distance(a,b):\n",
    "    return np.sum(np.absolute(a-b))\n",
    "\n",
    "def geo_vec_to_tab(geo_vec):\n",
    "    n_stat = int(len(geo_vec)/2)\n",
    "    return np.stack((geo_vec[0:n_stat],geo_vec[n_stat:2*n_stat]), axis= -1)\n",
    "\n",
    "class bay_wheel_station_opt: \n",
    "    def __init__(self, grid_data):\n",
    "        self.geo_coords = grid_data[\"geo_coords\"]\n",
    "        self.demand = grid_data[\"demand\"]\n",
    "        \n",
    "    def eval(self, stat_geo_list_vec):\n",
    "        # for each unit of demand, let cost be the Manhattan distance to the nearest station\n",
    "        # station geo list is a vector [Lat...., Long....]\n",
    "        tot_cost = 0\n",
    "        n_stat = int(len(stat_geo_list_vec)/2)\n",
    "        stat_geo_list_table = np.stack((stat_geo_list_vec[0:n_stat],stat_geo_list_vec[n_stat:2*n_stat]), axis= -1)\n",
    "        \n",
    "        for n in range(len(self.demand)):\n",
    "            x = self.geo_coords[n,]\n",
    "            dis_vec = np.zeros(n_stat)\n",
    "            for i in range(len(dis_vec)): \n",
    "                dis_vec[i] = manhattan_distance(x,stat_geo_list_table[i,])\n",
    "            tot_cost = tot_cost+np.min(dis_vec)*self.demand[n]\n",
    "        return tot_cost\n",
    "    \n"
   ]
  },
  {
   "cell_type": "code",
   "execution_count": null,
   "metadata": {},
   "outputs": [],
   "source": []
  },
  {
   "cell_type": "code",
   "execution_count": 248,
   "metadata": {},
   "outputs": [],
   "source": [
    "## Gradient descent using Evolutionary Strategy\n",
    "\n",
    "def es_optimize(funct, x_init, es_coef): \n",
    "    #funct: function class object\n",
    "    #x_init: array, initial solution\n",
    "    #es_coef: optimization coefficients    \n",
    "        # \"n\": number of steps\n",
    "        # \"m\": nubmer of mutations\n",
    "        # \"alpha\" :  step size parameter\n",
    "        # \"sigma\" : search distribution variance\n",
    "    \n",
    "    n = es_coef[\"n\"]\n",
    "    m = es_coef[\"m\"]\n",
    "    alpha = es_coef[\"alpha\"]\n",
    "    sigma = es_coef[\"sigma\"]\n",
    "    xlim_u = es_coef[\"xlim_u\"]\n",
    "    xlim_l = es_coef[\"xlim_l\"]\n",
    "\n",
    "    p = len(x_init) #dimension of the solution\n",
    "    \n",
    "    ## Initialization\n",
    "    x = np.zeros([n, p])\n",
    "    y = np.zeros([n, p])\n",
    "    y_muta = np.zeros(m)\n",
    "\n",
    "    x[0,]=x_init\n",
    "    y[0] =  funct.eval(x[0,])\n",
    "    \n",
    "    for i in range(n-1):\n",
    "        c_sum = np.zeros(p)\n",
    "        d_muta = np.random.normal(0, sigma, [m,p]) #Generate mutations\n",
    "\n",
    "        #Estimate gradient using weighted mutations\n",
    "        for j in range(m):\n",
    "            y_muta[j] = funct.eval(x[i,]+d_muta[j,])\n",
    "            c_sum = c_sum + (y_muta[j]-y[i])*d_muta[j,]\n",
    "\n",
    "        #Update solutions using estimated gradient\n",
    "        x_now = x[i,]- c_sum*alpha/(sigma**2*m)\n",
    "\n",
    "        x_now = np.minimum(xlim_u, x_now)\n",
    "        x_now = np.maximum(xlim_l, x_now)\n",
    "        \n",
    "        x[i+1,] = x_now\n",
    "        y[i+1] = funct.eval(x[i+1,])\n",
    "        \n",
    "    results = {\n",
    "        \"x_vec\": x,\n",
    "        \"y_vec\": y,\n",
    "        \"final_x\": x[n-1,]\n",
    "    }\n",
    "        \n",
    "    return results"
   ]
  },
  {
   "cell_type": "code",
   "execution_count": null,
   "metadata": {},
   "outputs": [],
   "source": [
    "n_station = 40\n",
    "\n",
    "xlim_u = np.concatenate((np.ones(n_station)*coor_ur[0], np.ones(n_station)*coor_ur[1]))\n",
    "\n",
    "xlim_l = np.concatenate((np.ones(n_station)*coor_ll[0], np.ones(n_station)*coor_ll[1]))\n",
    "\n",
    "es_coef = {\n",
    "\"n\": 60, # number of steps\n",
    "\"m\": 7, # nubmer of mutations\n",
    "\"alpha\" :  0.000000009, # step size parameter\n",
    "\"sigma\" : 0.0000000001, #search distribution variance\n",
    "\"xlim_u\" : xlim_u,\n",
    "\"xlim_l\" : xlim_l,\n",
    "}\n",
    "\n",
    "\n",
    "grid_data = {\n",
    "    \"geo_coords\" : np.stack((grid_lat, grid_long), axis= -1),\n",
    "    \"demand\" : y_pred\n",
    "}\n",
    "\n",
    "## Initalize optimization objective function \n",
    "bw_station_opt = bay_wheel_station_opt(grid_data)\n",
    "\n",
    "## Set initial station placement \n",
    "geo_coords = grid_data[\"geo_coords\"]\n",
    "init_ind=np.random.randint(len(grid_data[\"geo_coords\"]), size=(n_station, 2))\n",
    "x_init = np.zeros([n_station,2])\n",
    "for i in range(n_station):\n",
    "    x_init[i,] = geo_coords[init_ind][i][0]\n",
    "x_init = np.ndarray.flatten(x_init, 'F')\n",
    "\n",
    "## Optmize using Evolutionary Strategy\n",
    "results = es_optimize(bw_station_opt,x_init, es_coef)"
   ]
  },
  {
   "cell_type": "code",
   "execution_count": null,
   "metadata": {},
   "outputs": [],
   "source": [
    "x_vec = results[\"x_vec\"]\n",
    "y_vec = results[\"y_vec\"]\n",
    "final_x = results[\"final_x\"]\n",
    "\n",
    "plt.figure(figsize=(7,5))\n",
    "plt.plot(x_vec[:,0],'-x');\n",
    "plt.ylabel(\"Solution (x)\")\n",
    "plt.xlabel(\"Steps\");\n",
    "plt.show()\n",
    "\n",
    "plt.figure(figsize=(7,5));\n",
    "plt.plot(y_vec,'->');\n",
    "plt.ylabel(\"Function value (y)\")\n",
    "plt.xlabel(\"Steps\");\n",
    "plt.show()\n",
    "\n",
    "print(final_x)"
   ]
  },
  {
   "cell_type": "code",
   "execution_count": null,
   "metadata": {},
   "outputs": [],
   "source": [
    "##### Visualization with map\n",
    "final_station_geos = geo_vec_to_tab(final_x)\n",
    "cor_ref_start = (coor_ll+coor_ur)/2\n",
    "m = folium.Map(cor_ref_start, zoom_start=13)\n",
    "\n",
    "# plot heatmap of new stations\n",
    "m.add_child(plugins.HeatMap(final_station_geos, max_zoom = 13, max_val=1, radius = 13, blur=1))\n",
    "\n",
    "## Comparison\n",
    "grid_data = np.stack((grid_lat, grid_long, y_pred), axis=-1)\n",
    "## Convert startig trip count to quantiles for visualization\n",
    "d = grid_data[:,2]\n",
    "qrange = np.arange(0,100,1.25)\n",
    "quantiles = np.percentile(d, qrange)\n",
    "grid_data[:,2] = np.searchsorted(quantiles, d)/len(qrange)\n",
    "#m.add_child(plugins.HeatMap(grid_data, max_zoom = 13, max_val=1, radius = 3, blur=1))\n",
    "m.add_child(plugins.HeatMap(station_data, max_zoom = 13, max_val=1, radius = 6, blur=2))\n",
    "m"
   ]
  },
  {
   "cell_type": "code",
   "execution_count": null,
   "metadata": {},
   "outputs": [],
   "source": []
  }
 ],
 "metadata": {
  "kernelspec": {
   "display_name": "Python 3",
   "language": "python",
   "name": "python3"
  },
  "language_info": {
   "codemirror_mode": {
    "name": "ipython",
    "version": 3
   },
   "file_extension": ".py",
   "mimetype": "text/x-python",
   "name": "python",
   "nbconvert_exporter": "python",
   "pygments_lexer": "ipython3",
   "version": "3.7.4"
  }
 },
 "nbformat": 4,
 "nbformat_minor": 2
}
